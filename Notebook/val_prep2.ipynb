{
 "cells": [
  {
   "cell_type": "markdown",
   "metadata": {},
   "source": [
    "# Valorant Project: Prep Work Part 2"
   ]
  },
  {
   "cell_type": "markdown",
   "metadata": {},
   "source": [
    "<hr>  \n",
    "\n",
    "## Identifying the Necessary Data  \n",
    "\n"
   ]
  },
  {
   "cell_type": "markdown",
   "metadata": {},
   "source": [
    "Process: Determine the Win Rate Given the Team Comp (Select Highest Win Rate to Identify Best Team Comp)  \n",
    "Requirements:  \n",
    "* Match Outcome; Win/Lose\n",
    "* Team Comp\n",
    "> Determine which team the target player is in  \n",
    ">> Determine the other player's characters and the player's \n",
    ">>> Determine the Win Rate Given these set of agents  \n",
    ">>>> Maybe use set team comps to simplify the process; total permutation of 20 agents in a 5 person team is around 15k  \n",
    ">>>>> Identify the popular team comps and then classify those not captured to others; most popular are most likely part of the most sucessful  \n",
    "* Player / Team / Match Rank  \n",
    "* Map"
   ]
  },
  {
   "cell_type": "markdown",
   "metadata": {},
   "source": [
    "<hr>\n",
    "\n",
    "##### Team Configuration:  "
   ]
  },
  {
   "cell_type": "markdown",
   "metadata": {},
   "source": [
    "* 6 Duelists  \n",
    "> 3 Movement Duelist: Jett, Raze, Neon  \n",
    "> 3 Flash Duelist: Yoru, Reyna, Phoenix  \n",
    "* 5 Initiators  \n",
    "> 3 Flash Iniators: Breach, Skye, KO  \n",
    "> 2 Info Iniators: Fade, Sova  \n",
    "* 5 Controllers  \n",
    "> Dome Controllers: Astra, Brim, Omen  \n",
    "> Wall Controllers: Harbor, Viper  \n",
    "* 4 Sentinels  \n",
    "> Chamber, Cypher Killjoy, Sage  \n",
    "  \n",
    "**Lots of possible permutations even when specific agents are simplified into roles/classes**  \n",
    "> The original idea was to determine the possible win rate of a given scenario based on past matches; chances are that the exact same specific scenario (same map, same team comp, same rank, same enemy team comp and rank) will not have been recorded or there is limited data of it. So a prediction based on other past match data such as win rate given a map, win rate given a team comp, and win rate given the enemy team's comp would be used to extrapolate and make a prediction based on similar experiences.  \n",
    "  \n",
    "> I originally wanted to keep track of the team comp as a whole since the performance of a team with Jett, Sova, KO, Omen, Killjoy could be very different from one where instead of a Omen, it is a Viper (Different type of Controller [Dome vs Wall]). Agents would perform differently based on the rest of the agents in the team, so I wanted to capture the complete team comp rather than the presence of an agent alone, but that may result in an extremely large scope."
   ]
  },
  {
   "cell_type": "markdown",
   "metadata": {},
   "source": [
    "<hr> \n",
    "  \n",
    "### Pro Scene Comps  \n",
    "  \n",
    "The goal is to identify set team comps to maybe limit the possible permutations as either the most popular/successful team comp vs the rest [team comp 1's vs team comp 2's vs everything else's win rate]  \n",
    "> the data set is based on professional teams so team comps are drastically different from what are scene from the majority of the competitive matches in Valorant"
   ]
  },
  {
   "cell_type": "markdown",
   "metadata": {},
   "source": [
    "<hr>\n",
    "\n",
    "##### Summary"
   ]
  },
  {
   "cell_type": "markdown",
   "metadata": {},
   "source": [
    "Prevailing Comp:  \n",
    "**Jett**/Raze/Neon, **Sova**/Fade/Harbor, **KO**/Breach, **Omen**/Viper/Brim/Astra, **Killjoy**/Sage/Cypher   \n",
    "> Harbor More as an initiator  \n",
    "   \n",
    "Forgotten Picks:     \n",
    "Reyna, Phoenix, Chamber   \n",
    "> No Flash Duelists  "
   ]
  },
  {
   "cell_type": "markdown",
   "metadata": {},
   "source": [
    "<hr>\n",
    "\n",
    "##### Pro Matches Comp  "
   ]
  },
  {
   "cell_type": "markdown",
   "metadata": {},
   "source": [
    "*Losing Comp Variation*\n",
    "  \n",
    "Haven:  \n",
    "52/28 Jett, Sova, Breach, Omen, Killjoy  \n",
    "*3/13 Jett, Skye, Breach, Omen, Killjoy*  \n",
    "*9/13 Jett, Sova, Breach, Astra, Killjoy*  \n",
    "*10/13 Jett, Fade, Breach, Omen, Killjoy*\n",
    "  \n",
    "Ascent:   \n",
    "39/25 Jett, Sova, KO, Omen, Killjoy  \n",
    "13/7 Raze, Sova, Fade, Astra, Killjoy  \n",
    "*8/13 Jett, Fade, Harbor, Viper, Killjoy*  \n",
    "*7/13 Raze, Fade, Breach, Astra, Killjoy*  \n",
    "*10/13 Jett, Sova, Breach, Astra, Killjoy*\n",
    "  \n",
    "Icebox:  \n",
    "26/10 Jett, Sova, KO, Viper, Sage  \n",
    "13/7 Jett, Sova, Harbor, Viper, Killjoy  \n",
    "*21/25 Jett, Sova, Viper, Killjoy, Sage*   \n",
    "*10/26 Jett, Sova, Harbor, Viper, Killjoy*    \n",
    "  \n",
    "Breeze:  \n",
    "13/11 Jett, Sova, KO, Viper, Cypher    \n",
    "*11/13 Jett, Sova, Skye, Viper, Cypher*  \n",
    "  \n",
    "Fracture:  \n",
    "24/18 Jett, Raze, Breach, Brim, Killjoy  \n",
    "13/11 Neon, Fade, Breach, Brim, Killjoy  \n",
    "13/7 Neon, Raze, Breach, Brim, Cypher  \n",
    "*5/13 Raze, Breach, Brim, Sage, Killjoy*  \n",
    "*7/13 Raze, Breach, KO, Omen, Cypher*    \n",
    "   \n",
    "Split:  \n",
    "???  \n",
    "   \n",
    "Pearl:  \n",
    "13/9 Jett, Fade, Viper, Astra, Sage  \n",
    "13/4 Fade, KO, Viper, Astra, Killjoy  \n",
    "*9/13 Raze, Skye, Viper, Astra, Killjoy*  \n",
    "*4/13 Fade, Astra, Viper, Killjoy, Sage*  \n",
    "   \n",
    "Lotus:  \n",
    "???  \n",
    "   \n",
    "Bind:  \n",
    "???  \n",
    "  \n"
   ]
  }
 ],
 "metadata": {
  "kernelspec": {
   "display_name": "Python 3.10.9 64-bit (microsoft store)",
   "language": "python",
   "name": "python3"
  },
  "language_info": {
   "name": "python",
   "version": "3.10.10"
  },
  "orig_nbformat": 4,
  "vscode": {
   "interpreter": {
    "hash": "aea6fe521a8d4c902ca730e502c1a2f7b75abf53da708eec9ae2a041880e07b3"
   }
  }
 },
 "nbformat": 4,
 "nbformat_minor": 2
}
