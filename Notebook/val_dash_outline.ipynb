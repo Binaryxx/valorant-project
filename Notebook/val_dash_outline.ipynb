{
 "cells": [
  {
   "cell_type": "markdown",
   "metadata": {},
   "source": [
    "# Valorant Project: Interactive Dashboard  \n"
   ]
  },
  {
   "cell_type": "markdown",
   "metadata": {},
   "source": [
    "<hr>  \n",
    "  \n",
    "### Interactive Dashboard Outline:  "
   ]
  },
  {
   "cell_type": "markdown",
   "metadata": {},
   "source": [
    "Be able to identify the overall meta of agents on each map based on player ranks  \n",
    "* Be able to filter through by ranks first; should be within a one rank group difference\n",
    "> _example_: A player in Gold 1 will most likely queue with and against a team ranging from Silver 1 to Plat 1; there will be an average rank in a team and each member will be within one rank group deviation from the average; the two teams fighting agianst each other should have an average difference of one rank (Gold 1 vs Gold 2)  \n",
    "  \n",
    "* Then be able to filter through maps, since agents performs differently on maps  \n",
    "\n",
    "* From there display the agent's pick rate and win rate  \n",
    "> some agents may have low pick rates and high win rates meaning a niche pick that players may not be able to play against or it's only effective in certain situations (maps)  \n",
    "> popular and winning agents are the prevailing meta  \n",
    "> popular but non winning agents may mean that it's just a pick for fun or the playerbase only knows that person and applies the agent for bad situations (bad comp/bad map)\n",
    "> low win rate and low pick rate means that it is out of meta and not that viable    \n",
    "  \n",
    "* Maybe an additional feature on the performance of the agent given a set team comp based on classes  \n",
    "> Different popular permutations available to select; win rate and pick rate given that there is already a just a flash duelist the rest is ambigous or a flash duelist, dome controller, sentinel, info initiator\n",
    "\n",
    "\n"
   ]
  },
  {
   "cell_type": "markdown",
   "metadata": {},
   "source": [
    "##### Design:  "
   ]
  },
  {
   "cell_type": "markdown",
   "metadata": {},
   "source": [
    "* Ranks filter can be a range slider, setting the range of ranks to consider (can be as close as 1 rank group difference [gold and plats] or up to 3 [bronze, silver, gold, plat]); defaults should be 2 since it does happen but usually only 1 or 2 whose rank is 2 groups away from the highest; so maybe 1.5 is more accurate  \n",
    "* Dropdown for the maps  \n",
    "* Checkboxes for teammates that have already locked in  \n",
    "* A button to confirm that all selections have been made; in case loading in the graphs take awhile (avoids loading graph until the user is done inputting all necessary info)"
   ]
  },
  {
   "cell_type": "markdown",
   "metadata": {},
   "source": [
    "<hr>  \n",
    "  \n",
    "## Code"
   ]
  },
  {
   "cell_type": "markdown",
   "metadata": {},
   "source": [
    "### Load in Data"
   ]
  },
  {
   "cell_type": "code",
   "execution_count": 6,
   "metadata": {},
   "outputs": [
    {
     "data": {
      "text/html": [
       "<div>\n",
       "<style scoped>\n",
       "    .dataframe tbody tr th:only-of-type {\n",
       "        vertical-align: middle;\n",
       "    }\n",
       "\n",
       "    .dataframe tbody tr th {\n",
       "        vertical-align: top;\n",
       "    }\n",
       "\n",
       "    .dataframe thead th {\n",
       "        text-align: right;\n",
       "    }\n",
       "</style>\n",
       "<table border=\"1\" class=\"dataframe\">\n",
       "  <thead>\n",
       "    <tr style=\"text-align: right;\">\n",
       "      <th></th>\n",
       "      <th>agent</th>\n",
       "      <th>val_map</th>\n",
       "      <th>rank</th>\n",
       "      <th>win</th>\n",
       "    </tr>\n",
       "  </thead>\n",
       "  <tbody>\n",
       "    <tr>\n",
       "      <th>0</th>\n",
       "      <td>Reyna</td>\n",
       "      <td>Haven</td>\n",
       "      <td>14</td>\n",
       "      <td>True</td>\n",
       "    </tr>\n",
       "    <tr>\n",
       "      <th>1</th>\n",
       "      <td>Phoenix</td>\n",
       "      <td>Haven</td>\n",
       "      <td>14</td>\n",
       "      <td>True</td>\n",
       "    </tr>\n",
       "    <tr>\n",
       "      <th>2</th>\n",
       "      <td>Fade</td>\n",
       "      <td>Haven</td>\n",
       "      <td>13</td>\n",
       "      <td>True</td>\n",
       "    </tr>\n",
       "    <tr>\n",
       "      <th>3</th>\n",
       "      <td>Killjoy</td>\n",
       "      <td>Haven</td>\n",
       "      <td>12</td>\n",
       "      <td>False</td>\n",
       "    </tr>\n",
       "    <tr>\n",
       "      <th>4</th>\n",
       "      <td>Jett</td>\n",
       "      <td>Haven</td>\n",
       "      <td>15</td>\n",
       "      <td>False</td>\n",
       "    </tr>\n",
       "    <tr>\n",
       "      <th>...</th>\n",
       "      <td>...</td>\n",
       "      <td>...</td>\n",
       "      <td>...</td>\n",
       "      <td>...</td>\n",
       "    </tr>\n",
       "    <tr>\n",
       "      <th>2695</th>\n",
       "      <td>Harbor</td>\n",
       "      <td>Pearl</td>\n",
       "      <td>5</td>\n",
       "      <td>True</td>\n",
       "    </tr>\n",
       "    <tr>\n",
       "      <th>2696</th>\n",
       "      <td>Viper</td>\n",
       "      <td>Pearl</td>\n",
       "      <td>7</td>\n",
       "      <td>False</td>\n",
       "    </tr>\n",
       "    <tr>\n",
       "      <th>2697</th>\n",
       "      <td>Reyna</td>\n",
       "      <td>Pearl</td>\n",
       "      <td>0</td>\n",
       "      <td>False</td>\n",
       "    </tr>\n",
       "    <tr>\n",
       "      <th>2698</th>\n",
       "      <td>Reyna</td>\n",
       "      <td>Pearl</td>\n",
       "      <td>17</td>\n",
       "      <td>True</td>\n",
       "    </tr>\n",
       "    <tr>\n",
       "      <th>2699</th>\n",
       "      <td>Skye</td>\n",
       "      <td>Pearl</td>\n",
       "      <td>11</td>\n",
       "      <td>True</td>\n",
       "    </tr>\n",
       "  </tbody>\n",
       "</table>\n",
       "<p>2700 rows × 4 columns</p>\n",
       "</div>"
      ],
      "text/plain": [
       "        agent val_map  rank    win\n",
       "0       Reyna   Haven    14   True\n",
       "1     Phoenix   Haven    14   True\n",
       "2        Fade   Haven    13   True\n",
       "3     Killjoy   Haven    12  False\n",
       "4        Jett   Haven    15  False\n",
       "...       ...     ...   ...    ...\n",
       "2695   Harbor   Pearl     5   True\n",
       "2696    Viper   Pearl     7  False\n",
       "2697    Reyna   Pearl     0  False\n",
       "2698    Reyna   Pearl    17   True\n",
       "2699     Skye   Pearl    11   True\n",
       "\n",
       "[2700 rows x 4 columns]"
      ]
     },
     "execution_count": 6,
     "metadata": {},
     "output_type": "execute_result"
    }
   ],
   "source": [
    "import pandas as pd\n",
    "import numpy as np\n",
    "import pickle as pkl\n",
    "\n",
    "\n",
    "\n",
    "\n",
    "runs = []\n",
    "\n",
    "with open(\"C:\\\\Users\\\\Binaryxx Sune\\\\Documents\\\\Programming\\\\personal_projects\\\\data\\\\competitive_data.pkl\", \"rb\") as comp_data_file:\n",
    "    try:\n",
    "        while True:\n",
    "                runs.append(pkl.load(comp_data_file))\n",
    "    except:\n",
    "        pass\n",
    "\n",
    "\n",
    "\n",
    "matches = sum(runs, [])\n",
    "agent = []\n",
    "val_map = []\n",
    "rank = []\n",
    "outcome = []\n",
    "\n",
    "\n",
    "\n",
    "for match in matches:\n",
    "        # get map played by each player\n",
    "        for i in range(10):\n",
    "            val_map.append(match[\"metadata\"][\"map\"])\n",
    "\n",
    "        # get agent selected by each player and their rank\n",
    "        for player in match[\"players\"][\"all_players\"]:\n",
    "            agent.append(player[\"character\"])\n",
    "            rank.append(player[\"currenttier\"])\n",
    "\n",
    "        # get match outcome of each player\n",
    "        for player in match[\"players\"][\"all_players\"]:\n",
    "            player_team = player[\"team\"].lower()\n",
    "            outcome.append(match[\"teams\"][player_team][\"has_won\"])\n",
    "\n",
    "\n",
    "\n",
    "data_dict = {\"agent\": agent, \"val_map\" : val_map, \"rank\": rank, \"win\": outcome}\n",
    "\n",
    "val_data = pd.DataFrame(data_dict)\n",
    "\n",
    "\n",
    "\n",
    "val_data"
   ]
  },
  {
   "cell_type": "markdown",
   "metadata": {},
   "source": [
    "### Create the Necessary Features  \n",
    "  \n",
    "* Ranks  \n",
    "> Rank Labels  \n",
    "> Remove Uncalibrated\n",
    "* Maps\n",
    "> Remove maps not in competitive queue [Bind and Breeze]\n",
    "* Team Comp  \n",
    "> Agent Class Labels  \n",
    "> Team Comp\n",
    "* Win Rate  \n",
    "* Pick Rate\n",
    "\n"
   ]
  },
  {
   "cell_type": "code",
   "execution_count": 8,
   "metadata": {},
   "outputs": [],
   "source": [
    "def give_rank_label(rank):\n",
    "    \"\"\"\n",
    "    Assigns the int rank value into its corresponding label\n",
    "    \"\"\"\n",
    "    rank_label = []\n",
    "\n",
    "    rank_range = {\"Iron\": range(1,4), \"Bronze\": range(4,7), \"Silver\": range(7,10), \n",
    "    \"Gold\": range(10,13), \"Platinum\": range(13,16), \"Diamond\": range(16,19), \n",
    "    \"Ascendant\": range(19,22), \"Immortal\": range(22,25)}\n",
    "\n",
    "    if rank == 0:\n",
    "        return \"Uncalibrated\"  \n",
    "    \n",
    "    elif rank == 25:\n",
    "        return \"Radiant\"\n",
    "\n",
    "    else:\n",
    "        for rank_group in rank_range.items():\n",
    "            if rank in rank_group[1]:\n",
    "                rank_label.append(rank_group[0])\n",
    "                for idx, value in enumerate(rank_group[1]):\n",
    "                    if rank == value:\n",
    "                        rank_label.append(str(idx + 1))\n",
    "\n",
    "        return \" \".join(rank_label)\n",
    "\n"
   ]
  },
  {
   "cell_type": "code",
   "execution_count": 9,
   "metadata": {},
   "outputs": [
    {
     "data": {
      "text/html": [
       "<div>\n",
       "<style scoped>\n",
       "    .dataframe tbody tr th:only-of-type {\n",
       "        vertical-align: middle;\n",
       "    }\n",
       "\n",
       "    .dataframe tbody tr th {\n",
       "        vertical-align: top;\n",
       "    }\n",
       "\n",
       "    .dataframe thead th {\n",
       "        text-align: right;\n",
       "    }\n",
       "</style>\n",
       "<table border=\"1\" class=\"dataframe\">\n",
       "  <thead>\n",
       "    <tr style=\"text-align: right;\">\n",
       "      <th></th>\n",
       "      <th>agent</th>\n",
       "      <th>val_map</th>\n",
       "      <th>rank</th>\n",
       "      <th>win</th>\n",
       "      <th>rank_group</th>\n",
       "    </tr>\n",
       "  </thead>\n",
       "  <tbody>\n",
       "    <tr>\n",
       "      <th>0</th>\n",
       "      <td>Reyna</td>\n",
       "      <td>Haven</td>\n",
       "      <td>14</td>\n",
       "      <td>True</td>\n",
       "      <td>Platinum 2</td>\n",
       "    </tr>\n",
       "    <tr>\n",
       "      <th>1</th>\n",
       "      <td>Phoenix</td>\n",
       "      <td>Haven</td>\n",
       "      <td>14</td>\n",
       "      <td>True</td>\n",
       "      <td>Platinum 2</td>\n",
       "    </tr>\n",
       "    <tr>\n",
       "      <th>2</th>\n",
       "      <td>Fade</td>\n",
       "      <td>Haven</td>\n",
       "      <td>13</td>\n",
       "      <td>True</td>\n",
       "      <td>Platinum 1</td>\n",
       "    </tr>\n",
       "    <tr>\n",
       "      <th>3</th>\n",
       "      <td>Killjoy</td>\n",
       "      <td>Haven</td>\n",
       "      <td>12</td>\n",
       "      <td>False</td>\n",
       "      <td>Gold 3</td>\n",
       "    </tr>\n",
       "    <tr>\n",
       "      <th>4</th>\n",
       "      <td>Jett</td>\n",
       "      <td>Haven</td>\n",
       "      <td>15</td>\n",
       "      <td>False</td>\n",
       "      <td>Platinum 3</td>\n",
       "    </tr>\n",
       "    <tr>\n",
       "      <th>...</th>\n",
       "      <td>...</td>\n",
       "      <td>...</td>\n",
       "      <td>...</td>\n",
       "      <td>...</td>\n",
       "      <td>...</td>\n",
       "    </tr>\n",
       "    <tr>\n",
       "      <th>2694</th>\n",
       "      <td>Jett</td>\n",
       "      <td>Pearl</td>\n",
       "      <td>15</td>\n",
       "      <td>True</td>\n",
       "      <td>Platinum 3</td>\n",
       "    </tr>\n",
       "    <tr>\n",
       "      <th>2695</th>\n",
       "      <td>Harbor</td>\n",
       "      <td>Pearl</td>\n",
       "      <td>5</td>\n",
       "      <td>True</td>\n",
       "      <td>Bronze 2</td>\n",
       "    </tr>\n",
       "    <tr>\n",
       "      <th>2696</th>\n",
       "      <td>Viper</td>\n",
       "      <td>Pearl</td>\n",
       "      <td>7</td>\n",
       "      <td>False</td>\n",
       "      <td>Silver 1</td>\n",
       "    </tr>\n",
       "    <tr>\n",
       "      <th>2698</th>\n",
       "      <td>Reyna</td>\n",
       "      <td>Pearl</td>\n",
       "      <td>17</td>\n",
       "      <td>True</td>\n",
       "      <td>Diamond 2</td>\n",
       "    </tr>\n",
       "    <tr>\n",
       "      <th>2699</th>\n",
       "      <td>Skye</td>\n",
       "      <td>Pearl</td>\n",
       "      <td>11</td>\n",
       "      <td>True</td>\n",
       "      <td>Gold 2</td>\n",
       "    </tr>\n",
       "  </tbody>\n",
       "</table>\n",
       "<p>2422 rows × 5 columns</p>\n",
       "</div>"
      ],
      "text/plain": [
       "        agent val_map  rank    win  rank_group\n",
       "0       Reyna   Haven    14   True  Platinum 2\n",
       "1     Phoenix   Haven    14   True  Platinum 2\n",
       "2        Fade   Haven    13   True  Platinum 1\n",
       "3     Killjoy   Haven    12  False      Gold 3\n",
       "4        Jett   Haven    15  False  Platinum 3\n",
       "...       ...     ...   ...    ...         ...\n",
       "2694     Jett   Pearl    15   True  Platinum 3\n",
       "2695   Harbor   Pearl     5   True    Bronze 2\n",
       "2696    Viper   Pearl     7  False    Silver 1\n",
       "2698    Reyna   Pearl    17   True   Diamond 2\n",
       "2699     Skye   Pearl    11   True      Gold 2\n",
       "\n",
       "[2422 rows x 5 columns]"
      ]
     },
     "execution_count": 9,
     "metadata": {},
     "output_type": "execute_result"
    }
   ],
   "source": [
    "val_data[\"rank_group\"] = val_data[\"rank\"].apply(give_rank_label)\n",
    "val_data"
   ]
  },
  {
   "cell_type": "code",
   "execution_count": 10,
   "metadata": {},
   "outputs": [
    {
     "data": {
      "text/html": [
       "<div>\n",
       "<style scoped>\n",
       "    .dataframe tbody tr th:only-of-type {\n",
       "        vertical-align: middle;\n",
       "    }\n",
       "\n",
       "    .dataframe tbody tr th {\n",
       "        vertical-align: top;\n",
       "    }\n",
       "\n",
       "    .dataframe thead th {\n",
       "        text-align: right;\n",
       "    }\n",
       "</style>\n",
       "<table border=\"1\" class=\"dataframe\">\n",
       "  <thead>\n",
       "    <tr style=\"text-align: right;\">\n",
       "      <th></th>\n",
       "      <th>agent</th>\n",
       "      <th>val_map</th>\n",
       "      <th>rank</th>\n",
       "      <th>win</th>\n",
       "      <th>rank_group</th>\n",
       "    </tr>\n",
       "  </thead>\n",
       "  <tbody>\n",
       "    <tr>\n",
       "      <th>0</th>\n",
       "      <td>Reyna</td>\n",
       "      <td>Haven</td>\n",
       "      <td>14</td>\n",
       "      <td>True</td>\n",
       "      <td>Platinum 2</td>\n",
       "    </tr>\n",
       "    <tr>\n",
       "      <th>1</th>\n",
       "      <td>Phoenix</td>\n",
       "      <td>Haven</td>\n",
       "      <td>14</td>\n",
       "      <td>True</td>\n",
       "      <td>Platinum 2</td>\n",
       "    </tr>\n",
       "    <tr>\n",
       "      <th>2</th>\n",
       "      <td>Fade</td>\n",
       "      <td>Haven</td>\n",
       "      <td>13</td>\n",
       "      <td>True</td>\n",
       "      <td>Platinum 1</td>\n",
       "    </tr>\n",
       "    <tr>\n",
       "      <th>3</th>\n",
       "      <td>Killjoy</td>\n",
       "      <td>Haven</td>\n",
       "      <td>12</td>\n",
       "      <td>False</td>\n",
       "      <td>Gold 3</td>\n",
       "    </tr>\n",
       "    <tr>\n",
       "      <th>4</th>\n",
       "      <td>Jett</td>\n",
       "      <td>Haven</td>\n",
       "      <td>15</td>\n",
       "      <td>False</td>\n",
       "      <td>Platinum 3</td>\n",
       "    </tr>\n",
       "    <tr>\n",
       "      <th>...</th>\n",
       "      <td>...</td>\n",
       "      <td>...</td>\n",
       "      <td>...</td>\n",
       "      <td>...</td>\n",
       "      <td>...</td>\n",
       "    </tr>\n",
       "    <tr>\n",
       "      <th>2694</th>\n",
       "      <td>Jett</td>\n",
       "      <td>Pearl</td>\n",
       "      <td>15</td>\n",
       "      <td>True</td>\n",
       "      <td>Platinum 3</td>\n",
       "    </tr>\n",
       "    <tr>\n",
       "      <th>2695</th>\n",
       "      <td>Harbor</td>\n",
       "      <td>Pearl</td>\n",
       "      <td>5</td>\n",
       "      <td>True</td>\n",
       "      <td>Bronze 2</td>\n",
       "    </tr>\n",
       "    <tr>\n",
       "      <th>2696</th>\n",
       "      <td>Viper</td>\n",
       "      <td>Pearl</td>\n",
       "      <td>7</td>\n",
       "      <td>False</td>\n",
       "      <td>Silver 1</td>\n",
       "    </tr>\n",
       "    <tr>\n",
       "      <th>2698</th>\n",
       "      <td>Reyna</td>\n",
       "      <td>Pearl</td>\n",
       "      <td>17</td>\n",
       "      <td>True</td>\n",
       "      <td>Diamond 2</td>\n",
       "    </tr>\n",
       "    <tr>\n",
       "      <th>2699</th>\n",
       "      <td>Skye</td>\n",
       "      <td>Pearl</td>\n",
       "      <td>11</td>\n",
       "      <td>True</td>\n",
       "      <td>Gold 2</td>\n",
       "    </tr>\n",
       "  </tbody>\n",
       "</table>\n",
       "<p>2422 rows × 5 columns</p>\n",
       "</div>"
      ],
      "text/plain": [
       "        agent val_map  rank    win  rank_group\n",
       "0       Reyna   Haven    14   True  Platinum 2\n",
       "1     Phoenix   Haven    14   True  Platinum 2\n",
       "2        Fade   Haven    13   True  Platinum 1\n",
       "3     Killjoy   Haven    12  False      Gold 3\n",
       "4        Jett   Haven    15  False  Platinum 3\n",
       "...       ...     ...   ...    ...         ...\n",
       "2694     Jett   Pearl    15   True  Platinum 3\n",
       "2695   Harbor   Pearl     5   True    Bronze 2\n",
       "2696    Viper   Pearl     7  False    Silver 1\n",
       "2698    Reyna   Pearl    17   True   Diamond 2\n",
       "2699     Skye   Pearl    11   True      Gold 2\n",
       "\n",
       "[2422 rows x 5 columns]"
      ]
     },
     "execution_count": 10,
     "metadata": {},
     "output_type": "execute_result"
    }
   ],
   "source": [
    "val_data = val_data[val_data[\"rank\"] != 0]\n",
    "val_data = val_data[~val_data[\"val_map\"].isin([\"Breeze\", \"Bind\"])]\n",
    "\n",
    "val_data"
   ]
  },
  {
   "cell_type": "markdown",
   "metadata": {},
   "source": [
    "### Create the Dashboard"
   ]
  },
  {
   "cell_type": "code",
   "execution_count": null,
   "metadata": {},
   "outputs": [],
   "source": [
    "import dash\n",
    "import dash_html_components as html\n",
    "import dash_core_components as dcc\n",
    "from dash.dependencies import Input, Output\n",
    "import matplotlib.pyplot as plt\n",
    "import plotly.express as px"
   ]
  },
  {
   "cell_type": "code",
   "execution_count": 5,
   "metadata": {},
   "outputs": [
    {
     "name": "stdout",
     "output_type": "stream",
     "text": [
      "Dash is running on http://127.0.0.1:8050/\n",
      "\n",
      " * Serving Flask app '__main__'\n",
      " * Debug mode: off\n"
     ]
    },
    {
     "name": "stderr",
     "output_type": "stream",
     "text": [
      "C:\\Users\\Binaryxx Sune\\AppData\\Local\\Temp\\ipykernel_24996\\2682141691.py:3: UserWarning: \n",
      "The dash_html_components package is deprecated. Please replace\n",
      "`import dash_html_components as html` with `from dash import html`\n",
      "  import dash_html_components as html\n",
      "C:\\Users\\Binaryxx Sune\\AppData\\Local\\Temp\\ipykernel_24996\\2682141691.py:4: UserWarning: \n",
      "The dash_core_components package is deprecated. Please replace\n",
      "`import dash_core_components as dcc` with `from dash import dcc`\n",
      "  import dash_core_components as dcc\n",
      "WARNING: This is a development server. Do not use it in a production deployment. Use a production WSGI server instead.\n",
      " * Running on http://127.0.0.1:8050\n",
      "Press CTRL+C to quit\n"
     ]
    }
   ],
   "source": [
    "app = dash.Dash(__name__)\n",
    "\n",
    "\n",
    "\n",
    "app.layout = html.Div(children=[html.H1('Valorant Trends Dashboard',\n",
    "                                        style={'textAlign': 'center', 'color': '#503D36',\n",
    "                                               'font-size': 40}),\n",
    "                                html.Br(),\n",
    "                                \n",
    "                                html.Div(\n",
    "                                    [html.H3(\"Rank Range Filter\"),\n",
    "                                    html.P(\"Please adjust the slider to set the minimum and maximum rank ranges\"),\n",
    "                                    dcc.RangeSlider(id='rank-slider',\n",
    "                                                    min = 0,\n",
    "                                                    max = 25,\n",
    "                                                    step = 1,\n",
    "                                                        marks={\n",
    "                                                            0: 'Uncalibrated',\n",
    "                                                            1: 'Iron 1',\n",
    "                                                            2: 'Iron 2',\n",
    "                                                            3: 'Iron 3',\n",
    "                                                            4: 'Bronze 1',\n",
    "                                                            5: 'Bronze 2',\n",
    "                                                            6: 'Bronze 3',\n",
    "                                                            7: 'Silver 1',\n",
    "                                                            8: 'Silver 2',\n",
    "                                                            9: 'Silver 3',\n",
    "                                                            10: 'Gold 1',\n",
    "                                                            11: 'Gold 2',\n",
    "                                                            12: 'Gold 3',\n",
    "                                                            13: 'Platinum 1',\n",
    "                                                            14: 'Platinum 2',\n",
    "                                                            15: 'Platinum 3',\n",
    "                                                            16: 'Diamond 1',\n",
    "                                                            17: 'Diamond 2',\n",
    "                                                            18: 'Diamond 3',\n",
    "                                                            19: 'Ascendant 1',\n",
    "                                                            20: 'Ascendant 2',\n",
    "                                                            21: 'Ascendant 3',\n",
    "                                                            22: 'Immortal 1',\n",
    "                                                            23: 'Immortal 2',\n",
    "                                                            24: 'Immortal 3',\n",
    "                                                            25: 'Radiant'\n",
    "                                                            },\n",
    "                                                    value = [1, 24])]),\n",
    "                                html.Br(),\n",
    "\n",
    "                                html.Div([\n",
    "                                    html.H3(\"Map Selection\"),\n",
    "                                    html.P(\"Please select a map\"),\n",
    "                                    dcc.Dropdown(\n",
    "                                                id='map-dropdown',\n",
    "                                                options = \n",
    "                                                    [\n",
    "                                                        {\"label\": \"All Maps\", \"value\": \"all\"}, \n",
    "                                                        {\"label\": \"Ascent\", \"value\": \"Ascent\"}, \n",
    "                                                        {\"label\": \"Haven\", \"value\": \"Haven\"},\n",
    "                                                        {\"label\": \"Icebox\", \"value\": \"Icebox\"},\n",
    "                                                        {\"label\": \"Lotus\", \"value\": \"Lotus\"},\n",
    "                                                        {\"label\": \"Pearl\", \"value\": \"Pearl\"},\n",
    "                                                        {\"label\": \"Fracture\", \"value\": \"Fracture\"},\n",
    "                                                        {\"label\": \"Split\", \"value\": \"Split\"}\n",
    "                                                    ],\n",
    "                                                value = \"all\", \n",
    "                                                placeholder = \"Select a Map\", \n",
    "                                                searchable = True\n",
    "                                                )]),\n",
    "                                html.Br(),\n",
    "\n",
    "                                html.Div([\n",
    "                                    html.H3(\"Playable Agents\"),\n",
    "                                    html.P(\"Please select the agent(s) that you are able to comfortably play\"),\n",
    "                                    dcc.Checklist(\n",
    "                                                id='agent-checklist',\n",
    "                                                options = \n",
    "                                                        [\n",
    "                                                        {\"label\": \"Astra\", \"value\": \"Astra\"}, \n",
    "                                                        {\"label\": \"Breach\", \"value\": \"Breach\"}, \n",
    "                                                        {\"label\": \"Brimstone\", \"value\": \"Brimstone\"}, \n",
    "                                                        {\"label\": \"Chamber\", \"value\": \"Chamber\"}, \n",
    "                                                        {\"label\": \"Cypher\", \"value\": \"Cypher\"}, \n",
    "                                                        {\"label\": \"Fade\", \"value\": \"Fade\"},\n",
    "                                                        {\"label\": \"Harbor\", \"value\": \"Harbor\"},\n",
    "                                                        {\"label\": \"Jett\", \"value\": \"Jett\"},\n",
    "                                                        {\"label\": \"Kay/O\", \"value\": \"Kay/O\"},\n",
    "                                                        {\"label\": \"Killjoy\", \"value\": \"Killjoy\"},\n",
    "                                                        {\"label\": \"Neon\", \"value\": \"Neon\"},\n",
    "                                                        {\"label\": \"Omen\", \"value\": \"Omen\"},\n",
    "                                                        {\"label\": \"Phoenix\", \"value\": \"Phoenix\"},\n",
    "                                                        {\"label\": \"Raze\", \"value\": \"Raze\"},\n",
    "                                                        {\"label\": \"Reyna\", \"value\": \"Reyna\"},\n",
    "                                                        {\"label\": \"Sage\", \"value\": \"Sage\"},\n",
    "                                                        {\"label\": \"Skye\", \"value\": \"Skye\"},\n",
    "                                                        {\"label\": \"Sova\", \"value\": \"Sova\"},\n",
    "                                                        {\"label\": \"Viper\", \"value\": \"Viper\"},\n",
    "                                                        {\"label\": \"Yoru\", \"value\": \"Yoru\"}, \n",
    "                                                        ], \n",
    "                                                )]),\n",
    "                                html.Br(),\n",
    "                                html.Div(\n",
    "                                    dcc.Graph(id='agent-success'))\n",
    "                                ])\n",
    "\n",
    "\n",
    "\n",
    "@app.callback(Output(component_id='agent-success', component_property='figure'),\n",
    "              Input(component_id='rank-slider', component_property='value'), \n",
    "              Input(component_id='map-dropdown', component_property='value'), \n",
    "              Input(component_id='agent-checklist', component_property='value'))\n",
    "\n",
    "def get_agent_fig(rank_range, input_map, agent_list):\n",
    "    dash_data = val_data\n",
    "    low, high = rank_range\n",
    "\n",
    "    if input_map != \"all\":\n",
    "        dash_data = dash_data[dash_data[\"val_map\"] == input_map]\n",
    "    dash_data = dash_data[dash_data[\"rank\"].isin(range(low, high+1))]\n",
    "\n",
    "    agent_data = dash_data.groupby([\"agent\"], as_index = False)[\"win\"].sum()\n",
    "    win_count = agent_data[\"win\"].to_numpy()\n",
    "    match_count = dash_data.groupby([\"agent\"], as_index = False)[\"win\"].count()[\"win\"].to_numpy()\n",
    "    total_matches = match_count.sum()\n",
    "    agent_data[\"win_rate\"] = np.around((win_count / match_count) * 100, decimals = 2)\n",
    "    agent_data[\"pick_rate\"] = np.around((match_count / total_matches) * 100, decimals = 2)\n",
    "    agent_data = agent_data.drop([\"win\"], axis = 1)\n",
    "    if agent_list:\n",
    "        agent_data = agent_data[agent_data[\"agent\"].isin(agent_list)]\n",
    "    agent_data = pd.melt(agent_data, id_vars = \"agent\", var_name = \"win/pick\", value_name = \"rates\")\n",
    "\n",
    "    viz = px.bar(agent_data, \n",
    "        y = \"agent\", \n",
    "        x = \"rates\", \n",
    "        color = \"win/pick\", \n",
    "        orientation = \"h\", \n",
    "        barmode = \"group\", \n",
    "        labels = {\n",
    "            \"agent\": \"Agent(s)\",\n",
    "            \"rates\": \"Percentage (%)\"\n",
    "        },\n",
    "        title = \"Agent(s) Pick Rate and Win Rate\")\n",
    "    \n",
    "    viz.update_traces(hovertemplate = \"<br>\".join([\n",
    "        \"Agent: %{y}\",\n",
    "        \"Rate: %{x}%\"\n",
    "    ]))\n",
    "\n",
    "    newnames = {'win_rate':'Win Rate', 'pick_rate': 'Pick Rate'}\n",
    "    viz.for_each_trace(lambda t: t.update(name = newnames[t.name],\n",
    "                                      legendgroup = newnames[t.name],\n",
    "                                      hovertemplate = t.hovertemplate.replace(t.name, newnames[t.name])\n",
    "                                     )\n",
    "                  )\n",
    "\n",
    "\n",
    "\n",
    "    return viz"
   ]
  },
  {
   "cell_type": "markdown",
   "metadata": {},
   "source": [
    "<hr>\n",
    "\n",
    "### Prototype Graph  \n"
   ]
  },
  {
   "cell_type": "code",
   "execution_count": 11,
   "metadata": {},
   "outputs": [
    {
     "data": {
      "text/html": [
       "<div>\n",
       "<style scoped>\n",
       "    .dataframe tbody tr th:only-of-type {\n",
       "        vertical-align: middle;\n",
       "    }\n",
       "\n",
       "    .dataframe tbody tr th {\n",
       "        vertical-align: top;\n",
       "    }\n",
       "\n",
       "    .dataframe thead th {\n",
       "        text-align: right;\n",
       "    }\n",
       "</style>\n",
       "<table border=\"1\" class=\"dataframe\">\n",
       "  <thead>\n",
       "    <tr style=\"text-align: right;\">\n",
       "      <th></th>\n",
       "      <th>agent</th>\n",
       "      <th>win/pick</th>\n",
       "      <th>rates</th>\n",
       "    </tr>\n",
       "  </thead>\n",
       "  <tbody>\n",
       "    <tr>\n",
       "      <th>0</th>\n",
       "      <td>Astra</td>\n",
       "      <td>win_rate</td>\n",
       "      <td>77.14</td>\n",
       "    </tr>\n",
       "    <tr>\n",
       "      <th>1</th>\n",
       "      <td>Breach</td>\n",
       "      <td>win_rate</td>\n",
       "      <td>51.56</td>\n",
       "    </tr>\n",
       "    <tr>\n",
       "      <th>2</th>\n",
       "      <td>Brimstone</td>\n",
       "      <td>win_rate</td>\n",
       "      <td>51.13</td>\n",
       "    </tr>\n",
       "    <tr>\n",
       "      <th>3</th>\n",
       "      <td>Chamber</td>\n",
       "      <td>win_rate</td>\n",
       "      <td>67.86</td>\n",
       "    </tr>\n",
       "    <tr>\n",
       "      <th>4</th>\n",
       "      <td>Cypher</td>\n",
       "      <td>win_rate</td>\n",
       "      <td>46.40</td>\n",
       "    </tr>\n",
       "    <tr>\n",
       "      <th>5</th>\n",
       "      <td>Fade</td>\n",
       "      <td>win_rate</td>\n",
       "      <td>60.61</td>\n",
       "    </tr>\n",
       "    <tr>\n",
       "      <th>6</th>\n",
       "      <td>Harbor</td>\n",
       "      <td>win_rate</td>\n",
       "      <td>41.82</td>\n",
       "    </tr>\n",
       "    <tr>\n",
       "      <th>7</th>\n",
       "      <td>Jett</td>\n",
       "      <td>win_rate</td>\n",
       "      <td>48.79</td>\n",
       "    </tr>\n",
       "    <tr>\n",
       "      <th>8</th>\n",
       "      <td>KAY/O</td>\n",
       "      <td>win_rate</td>\n",
       "      <td>37.14</td>\n",
       "    </tr>\n",
       "    <tr>\n",
       "      <th>9</th>\n",
       "      <td>Killjoy</td>\n",
       "      <td>win_rate</td>\n",
       "      <td>39.50</td>\n",
       "    </tr>\n",
       "    <tr>\n",
       "      <th>10</th>\n",
       "      <td>Neon</td>\n",
       "      <td>win_rate</td>\n",
       "      <td>36.59</td>\n",
       "    </tr>\n",
       "    <tr>\n",
       "      <th>11</th>\n",
       "      <td>Omen</td>\n",
       "      <td>win_rate</td>\n",
       "      <td>35.67</td>\n",
       "    </tr>\n",
       "    <tr>\n",
       "      <th>12</th>\n",
       "      <td>Phoenix</td>\n",
       "      <td>win_rate</td>\n",
       "      <td>47.73</td>\n",
       "    </tr>\n",
       "    <tr>\n",
       "      <th>13</th>\n",
       "      <td>Raze</td>\n",
       "      <td>win_rate</td>\n",
       "      <td>40.46</td>\n",
       "    </tr>\n",
       "    <tr>\n",
       "      <th>14</th>\n",
       "      <td>Reyna</td>\n",
       "      <td>win_rate</td>\n",
       "      <td>58.16</td>\n",
       "    </tr>\n",
       "    <tr>\n",
       "      <th>15</th>\n",
       "      <td>Sage</td>\n",
       "      <td>win_rate</td>\n",
       "      <td>55.81</td>\n",
       "    </tr>\n",
       "    <tr>\n",
       "      <th>16</th>\n",
       "      <td>Skye</td>\n",
       "      <td>win_rate</td>\n",
       "      <td>47.96</td>\n",
       "    </tr>\n",
       "    <tr>\n",
       "      <th>17</th>\n",
       "      <td>Sova</td>\n",
       "      <td>win_rate</td>\n",
       "      <td>45.54</td>\n",
       "    </tr>\n",
       "    <tr>\n",
       "      <th>18</th>\n",
       "      <td>Viper</td>\n",
       "      <td>win_rate</td>\n",
       "      <td>64.86</td>\n",
       "    </tr>\n",
       "    <tr>\n",
       "      <th>19</th>\n",
       "      <td>Yoru</td>\n",
       "      <td>win_rate</td>\n",
       "      <td>53.66</td>\n",
       "    </tr>\n",
       "    <tr>\n",
       "      <th>20</th>\n",
       "      <td>Astra</td>\n",
       "      <td>pick_rate</td>\n",
       "      <td>1.45</td>\n",
       "    </tr>\n",
       "    <tr>\n",
       "      <th>21</th>\n",
       "      <td>Breach</td>\n",
       "      <td>pick_rate</td>\n",
       "      <td>2.64</td>\n",
       "    </tr>\n",
       "    <tr>\n",
       "      <th>22</th>\n",
       "      <td>Brimstone</td>\n",
       "      <td>pick_rate</td>\n",
       "      <td>5.49</td>\n",
       "    </tr>\n",
       "    <tr>\n",
       "      <th>23</th>\n",
       "      <td>Chamber</td>\n",
       "      <td>pick_rate</td>\n",
       "      <td>1.16</td>\n",
       "    </tr>\n",
       "    <tr>\n",
       "      <th>24</th>\n",
       "      <td>Cypher</td>\n",
       "      <td>pick_rate</td>\n",
       "      <td>5.16</td>\n",
       "    </tr>\n",
       "    <tr>\n",
       "      <th>25</th>\n",
       "      <td>Fade</td>\n",
       "      <td>pick_rate</td>\n",
       "      <td>6.81</td>\n",
       "    </tr>\n",
       "    <tr>\n",
       "      <th>26</th>\n",
       "      <td>Harbor</td>\n",
       "      <td>pick_rate</td>\n",
       "      <td>2.27</td>\n",
       "    </tr>\n",
       "    <tr>\n",
       "      <th>27</th>\n",
       "      <td>Jett</td>\n",
       "      <td>pick_rate</td>\n",
       "      <td>10.24</td>\n",
       "    </tr>\n",
       "    <tr>\n",
       "      <th>28</th>\n",
       "      <td>KAY/O</td>\n",
       "      <td>pick_rate</td>\n",
       "      <td>2.89</td>\n",
       "    </tr>\n",
       "    <tr>\n",
       "      <th>29</th>\n",
       "      <td>Killjoy</td>\n",
       "      <td>pick_rate</td>\n",
       "      <td>4.91</td>\n",
       "    </tr>\n",
       "    <tr>\n",
       "      <th>30</th>\n",
       "      <td>Neon</td>\n",
       "      <td>pick_rate</td>\n",
       "      <td>1.69</td>\n",
       "    </tr>\n",
       "    <tr>\n",
       "      <th>31</th>\n",
       "      <td>Omen</td>\n",
       "      <td>pick_rate</td>\n",
       "      <td>6.48</td>\n",
       "    </tr>\n",
       "    <tr>\n",
       "      <th>32</th>\n",
       "      <td>Phoenix</td>\n",
       "      <td>pick_rate</td>\n",
       "      <td>5.45</td>\n",
       "    </tr>\n",
       "    <tr>\n",
       "      <th>33</th>\n",
       "      <td>Raze</td>\n",
       "      <td>pick_rate</td>\n",
       "      <td>7.14</td>\n",
       "    </tr>\n",
       "    <tr>\n",
       "      <th>34</th>\n",
       "      <td>Reyna</td>\n",
       "      <td>pick_rate</td>\n",
       "      <td>12.14</td>\n",
       "    </tr>\n",
       "    <tr>\n",
       "      <th>35</th>\n",
       "      <td>Sage</td>\n",
       "      <td>pick_rate</td>\n",
       "      <td>10.65</td>\n",
       "    </tr>\n",
       "    <tr>\n",
       "      <th>36</th>\n",
       "      <td>Skye</td>\n",
       "      <td>pick_rate</td>\n",
       "      <td>4.05</td>\n",
       "    </tr>\n",
       "    <tr>\n",
       "      <th>37</th>\n",
       "      <td>Sova</td>\n",
       "      <td>pick_rate</td>\n",
       "      <td>4.62</td>\n",
       "    </tr>\n",
       "    <tr>\n",
       "      <th>38</th>\n",
       "      <td>Viper</td>\n",
       "      <td>pick_rate</td>\n",
       "      <td>3.06</td>\n",
       "    </tr>\n",
       "    <tr>\n",
       "      <th>39</th>\n",
       "      <td>Yoru</td>\n",
       "      <td>pick_rate</td>\n",
       "      <td>1.69</td>\n",
       "    </tr>\n",
       "  </tbody>\n",
       "</table>\n",
       "</div>"
      ],
      "text/plain": [
       "        agent   win/pick  rates\n",
       "0       Astra   win_rate  77.14\n",
       "1      Breach   win_rate  51.56\n",
       "2   Brimstone   win_rate  51.13\n",
       "3     Chamber   win_rate  67.86\n",
       "4      Cypher   win_rate  46.40\n",
       "5        Fade   win_rate  60.61\n",
       "6      Harbor   win_rate  41.82\n",
       "7        Jett   win_rate  48.79\n",
       "8       KAY/O   win_rate  37.14\n",
       "9     Killjoy   win_rate  39.50\n",
       "10       Neon   win_rate  36.59\n",
       "11       Omen   win_rate  35.67\n",
       "12    Phoenix   win_rate  47.73\n",
       "13       Raze   win_rate  40.46\n",
       "14      Reyna   win_rate  58.16\n",
       "15       Sage   win_rate  55.81\n",
       "16       Skye   win_rate  47.96\n",
       "17       Sova   win_rate  45.54\n",
       "18      Viper   win_rate  64.86\n",
       "19       Yoru   win_rate  53.66\n",
       "20      Astra  pick_rate   1.45\n",
       "21     Breach  pick_rate   2.64\n",
       "22  Brimstone  pick_rate   5.49\n",
       "23    Chamber  pick_rate   1.16\n",
       "24     Cypher  pick_rate   5.16\n",
       "25       Fade  pick_rate   6.81\n",
       "26     Harbor  pick_rate   2.27\n",
       "27       Jett  pick_rate  10.24\n",
       "28      KAY/O  pick_rate   2.89\n",
       "29    Killjoy  pick_rate   4.91\n",
       "30       Neon  pick_rate   1.69\n",
       "31       Omen  pick_rate   6.48\n",
       "32    Phoenix  pick_rate   5.45\n",
       "33       Raze  pick_rate   7.14\n",
       "34      Reyna  pick_rate  12.14\n",
       "35       Sage  pick_rate  10.65\n",
       "36       Skye  pick_rate   4.05\n",
       "37       Sova  pick_rate   4.62\n",
       "38      Viper  pick_rate   3.06\n",
       "39       Yoru  pick_rate   1.69"
      ]
     },
     "execution_count": 11,
     "metadata": {},
     "output_type": "execute_result"
    }
   ],
   "source": [
    "agent_data = val_data.groupby([\"agent\"], as_index = False)[\"win\"].sum()\n",
    "\n",
    "win_count = agent_data[\"win\"].to_numpy()\n",
    "match_count = val_data.groupby([\"agent\"], as_index = False)[\"win\"].count()[\"win\"].to_numpy()\n",
    "total_matches = match_count.sum()\n",
    "\n",
    "agent_data[\"win_rate\"] = np.around((win_count / match_count) * 100, decimals = 2)\n",
    "agent_data[\"pick_rate\"] = np.around((match_count / total_matches) * 100, decimals = 2)\n",
    "agent_data = agent_data.drop([\"win\"], axis = 1)\n",
    "\n",
    "agent_data = pd.melt(agent_data, id_vars = \"agent\", var_name = \"win/pick\", value_name = \"rates\")\n",
    "\n",
    "agent_data"
   ]
  },
  {
   "cell_type": "code",
   "execution_count": 12,
   "metadata": {},
   "outputs": [
    {
     "data": {
      "image/png": "[encoded data removed]",
      "text/plain": [
       "<Figure size 1000x1000 with 1 Axes>"
      ]
     },
     "metadata": {},
     "output_type": "display_data"
    }
   ],
   "source": [
    "g = sns.catplot(y = \"agent\", x = \"rates\", hue = \"win/pick\", data = agent_data, kind = \"bar\")\n",
    "\n",
    "g.fig.set_size_inches(10, 10)\n",
    "g.fig.subplots_adjust(top=2, right=2)\n",
    "\n",
    "ax = g.facet_axis(0, 0)\n",
    "\n",
    "for container in ax.containers:\n",
    "    rate = [f'{(values.get_width()):.2f}' for values in container]\n",
    "    ax.bar_label(container, labels = rate, label_type = 'edge')\n",
    "\n",
    "plt.xlabel(\"%\")\n",
    "plt.ylabel(\"Agent\")\n",
    "plt.title(\"Agents Win and Pick Rate\")\n",
    "\n",
    "plt.show()"
   ]
  },
  {
   "cell_type": "code",
   "execution_count": 24,
   "metadata": {},
   "outputs": [
    {
     "data": {
      "application/vnd.plotly.v1+json": {
       "config": {
        "plotlyServerURL": "https://plot.ly"
       },
       "data": [
        {
         "alignmentgroup": "True",
         "hovertemplate": "win/pick=win_rate<br>rates=%{x}<br>agent=%{y}<extra></extra>",
         "legendgroup": "win_rate",
         "marker": {
          "color": "#636efa",
          "pattern": {
           "shape": ""
          }
         },
         "name": "win_rate",
         "offsetgroup": "win_rate",
         "orientation": "h",
         "showlegend": true,
         "textposition": "auto",
         "type": "bar",
         "x": [
          77.14,
          51.56,
          51.13,
          67.86,
          46.4,
          60.61,
          41.82,
          48.79,
          37.14,
          39.5,
          36.59,
          35.67,
          47.73,
          40.46,
          58.16,
          55.81,
          47.96,
          45.54,
          64.86,
          53.66
         ],
         "xaxis": "x",
         "y": [
          "Astra",
          "Breach",
          "Brimstone",
          "Chamber",
          "Cypher",
          "Fade",
          "Harbor",
          "Jett",
          "KAY/O",
          "Killjoy",
          "Neon",
          "Omen",
          "Phoenix",
          "Raze",
          "Reyna",
          "Sage",
          "Skye",
          "Sova",
          "Viper",
          "Yoru"
         ],
         "yaxis": "y"
        },
        {
         "alignmentgroup": "True",
         "hovertemplate": "win/pick=pick_rate<br>rates=%{x}<br>agent=%{y}<extra></extra>",
         "legendgroup": "pick_rate",
         "marker": {
          "color": "#EF553B",
          "pattern": {
           "shape": ""
          }
         },
         "name": "pick_rate",
         "offsetgroup": "pick_rate",
         "orientation": "h",
         "showlegend": true,
         "textposition": "auto",
         "type": "bar",
         "x": [
          1.45,
          2.64,
          5.49,
          1.16,
          5.16,
          6.81,
          2.27,
          10.24,
          2.89,
          4.91,
          1.69,
          6.48,
          5.45,
          7.14,
          12.14,
          10.65,
          4.05,
          4.62,
          3.06,
          1.69
         ],
         "xaxis": "x",
         "y": [
          "Astra",
          "Breach",
          "Brimstone",
          "Chamber",
          "Cypher",
          "Fade",
          "Harbor",
          "Jett",
          "KAY/O",
          "Killjoy",
          "Neon",
          "Omen",
          "Phoenix",
          "Raze",
          "Reyna",
          "Sage",
          "Skye",
          "Sova",
          "Viper",
          "Yoru"
         ],
         "yaxis": "y"
        }
       ],
       "layout": {
        "barmode": "group",
        "legend": {
         "title": {
          "text": "win/pick"
         },
         "tracegroupgap": 0
        },
        "margin": {
         "t": 60
        },
        "template": {
         "data": {
          "bar": [
           {
            "error_x": {
             "color": "#2a3f5f"
            },
            "error_y": {
             "color": "#2a3f5f"
            },
            "marker": {
             "line": {
              "color": "#E5ECF6",
              "width": 0.5
             },
             "pattern": {
              "fillmode": "overlay",
              "size": 10,
              "solidity": 0.2
             }
            },
            "type": "bar"
           }
          ],
          "barpolar": [
           {
            "marker": {
             "line": {
              "color": "#E5ECF6",
              "width": 0.5
             },
             "pattern": {
              "fillmode": "overlay",
              "size": 10,
              "solidity": 0.2
             }
            },
            "type": "barpolar"
           }
          ],
          "carpet": [
           {
            "aaxis": {
             "endlinecolor": "#2a3f5f",
             "gridcolor": "white",
             "linecolor": "white",
             "minorgridcolor": "white",
             "startlinecolor": "#2a3f5f"
            },
            "baxis": {
             "endlinecolor": "#2a3f5f",
             "gridcolor": "white",
             "linecolor": "white",
             "minorgridcolor": "white",
             "startlinecolor": "#2a3f5f"
            },
            "type": "carpet"
           }
          ],
          "choropleth": [
           {
            "colorbar": {
             "outlinewidth": 0,
             "ticks": ""
            },
            "type": "choropleth"
           }
          ],
          "contour": [
           {
            "colorbar": {
             "outlinewidth": 0,
             "ticks": ""
            },
            "colorscale": [
             [
              0,
              "#0d0887"
             ],
             [
              0.1111111111111111,
              "#46039f"
             ],
             [
              0.2222222222222222,
              "#7201a8"
             ],
             [
              0.3333333333333333,
              "#9c179e"
             ],
             [
              0.4444444444444444,
              "#bd3786"
             ],
             [
              0.5555555555555556,
              "#d8576b"
             ],
             [
              0.6666666666666666,
              "#ed7953"
             ],
             [
              0.7777777777777778,
              "#fb9f3a"
             ],
             [
              0.8888888888888888,
              "#fdca26"
             ],
             [
              1,
              "#f0f921"
             ]
            ],
            "type": "contour"
           }
          ],
          "contourcarpet": [
           {
            "colorbar": {
             "outlinewidth": 0,
             "ticks": ""
            },
            "type": "contourcarpet"
           }
          ],
          "heatmap": [
           {
            "colorbar": {
             "outlinewidth": 0,
             "ticks": ""
            },
            "colorscale": [
             [
              0,
              "#0d0887"
             ],
             [
              0.1111111111111111,
              "#46039f"
             ],
             [
              0.2222222222222222,
              "#7201a8"
             ],
             [
              0.3333333333333333,
              "#9c179e"
             ],
             [
              0.4444444444444444,
              "#bd3786"
             ],
             [
              0.5555555555555556,
              "#d8576b"
             ],
             [
              0.6666666666666666,
              "#ed7953"
             ],
             [
              0.7777777777777778,
              "#fb9f3a"
             ],
             [
              0.8888888888888888,
              "#fdca26"
             ],
             [
              1,
              "#f0f921"
             ]
            ],
            "type": "heatmap"
           }
          ],
          "heatmapgl": [
           {
            "colorbar": {
             "outlinewidth": 0,
             "ticks": ""
            },
            "colorscale": [
             [
              0,
              "#0d0887"
             ],
             [
              0.1111111111111111,
              "#46039f"
             ],
             [
              0.2222222222222222,
              "#7201a8"
             ],
             [
              0.3333333333333333,
              "#9c179e"
             ],
             [
              0.4444444444444444,
              "#bd3786"
             ],
             [
              0.5555555555555556,
              "#d8576b"
             ],
             [
              0.6666666666666666,
              "#ed7953"
             ],
             [
              0.7777777777777778,
              "#fb9f3a"
             ],
             [
              0.8888888888888888,
              "#fdca26"
             ],
             [
              1,
              "#f0f921"
             ]
            ],
            "type": "heatmapgl"
           }
          ],
          "histogram": [
           {
            "marker": {
             "pattern": {
              "fillmode": "overlay",
              "size": 10,
              "solidity": 0.2
             }
            },
            "type": "histogram"
           }
          ],
          "histogram2d": [
           {
            "colorbar": {
             "outlinewidth": 0,
             "ticks": ""
            },
            "colorscale": [
             [
              0,
              "#0d0887"
             ],
             [
              0.1111111111111111,
              "#46039f"
             ],
             [
              0.2222222222222222,
              "#7201a8"
             ],
             [
              0.3333333333333333,
              "#9c179e"
             ],
             [
              0.4444444444444444,
              "#bd3786"
             ],
             [
              0.5555555555555556,
              "#d8576b"
             ],
             [
              0.6666666666666666,
              "#ed7953"
             ],
             [
              0.7777777777777778,
              "#fb9f3a"
             ],
             [
              0.8888888888888888,
              "#fdca26"
             ],
             [
              1,
              "#f0f921"
             ]
            ],
            "type": "histogram2d"
           }
          ],
          "histogram2dcontour": [
           {
            "colorbar": {
             "outlinewidth": 0,
             "ticks": ""
            },
            "colorscale": [
             [
              0,
              "#0d0887"
             ],
             [
              0.1111111111111111,
              "#46039f"
             ],
             [
              0.2222222222222222,
              "#7201a8"
             ],
             [
              0.3333333333333333,
              "#9c179e"
             ],
             [
              0.4444444444444444,
              "#bd3786"
             ],
             [
              0.5555555555555556,
              "#d8576b"
             ],
             [
              0.6666666666666666,
              "#ed7953"
             ],
             [
              0.7777777777777778,
              "#fb9f3a"
             ],
             [
              0.8888888888888888,
              "#fdca26"
             ],
             [
              1,
              "#f0f921"
             ]
            ],
            "type": "histogram2dcontour"
           }
          ],
          "mesh3d": [
           {
            "colorbar": {
             "outlinewidth": 0,
             "ticks": ""
            },
            "type": "mesh3d"
           }
          ],
          "parcoords": [
           {
            "line": {
             "colorbar": {
              "outlinewidth": 0,
              "ticks": ""
             }
            },
            "type": "parcoords"
           }
          ],
          "pie": [
           {
            "automargin": true,
            "type": "pie"
           }
          ],
          "scatter": [
           {
            "fillpattern": {
             "fillmode": "overlay",
             "size": 10,
             "solidity": 0.2
            },
            "type": "scatter"
           }
          ],
          "scatter3d": [
           {
            "line": {
             "colorbar": {
              "outlinewidth": 0,
              "ticks": ""
             }
            },
            "marker": {
             "colorbar": {
              "outlinewidth": 0,
              "ticks": ""
             }
            },
            "type": "scatter3d"
           }
          ],
          "scattercarpet": [
           {
            "marker": {
             "colorbar": {
              "outlinewidth": 0,
              "ticks": ""
             }
            },
            "type": "scattercarpet"
           }
          ],
          "scattergeo": [
           {
            "marker": {
             "colorbar": {
              "outlinewidth": 0,
              "ticks": ""
             }
            },
            "type": "scattergeo"
           }
          ],
          "scattergl": [
           {
            "marker": {
             "colorbar": {
              "outlinewidth": 0,
              "ticks": ""
             }
            },
            "type": "scattergl"
           }
          ],
          "scattermapbox": [
           {
            "marker": {
             "colorbar": {
              "outlinewidth": 0,
              "ticks": ""
             }
            },
            "type": "scattermapbox"
           }
          ],
          "scatterpolar": [
           {
            "marker": {
             "colorbar": {
              "outlinewidth": 0,
              "ticks": ""
             }
            },
            "type": "scatterpolar"
           }
          ],
          "scatterpolargl": [
           {
            "marker": {
             "colorbar": {
              "outlinewidth": 0,
              "ticks": ""
             }
            },
            "type": "scatterpolargl"
           }
          ],
          "scatterternary": [
           {
            "marker": {
             "colorbar": {
              "outlinewidth": 0,
              "ticks": ""
             }
            },
            "type": "scatterternary"
           }
          ],
          "surface": [
           {
            "colorbar": {
             "outlinewidth": 0,
             "ticks": ""
            },
            "colorscale": [
             [
              0,
              "#0d0887"
             ],
             [
              0.1111111111111111,
              "#46039f"
             ],
             [
              0.2222222222222222,
              "#7201a8"
             ],
             [
              0.3333333333333333,
              "#9c179e"
             ],
             [
              0.4444444444444444,
              "#bd3786"
             ],
             [
              0.5555555555555556,
              "#d8576b"
             ],
             [
              0.6666666666666666,
              "#ed7953"
             ],
             [
              0.7777777777777778,
              "#fb9f3a"
             ],
             [
              0.8888888888888888,
              "#fdca26"
             ],
             [
              1,
              "#f0f921"
             ]
            ],
            "type": "surface"
           }
          ],
          "table": [
           {
            "cells": {
             "fill": {
              "color": "#EBF0F8"
             },
             "line": {
              "color": "white"
             }
            },
            "header": {
             "fill": {
              "color": "#C8D4E3"
             },
             "line": {
              "color": "white"
             }
            },
            "type": "table"
           }
          ]
         },
         "layout": {
          "annotationdefaults": {
           "arrowcolor": "#2a3f5f",
           "arrowhead": 0,
           "arrowwidth": 1
          },
          "autotypenumbers": "strict",
          "coloraxis": {
           "colorbar": {
            "outlinewidth": 0,
            "ticks": ""
           }
          },
          "colorscale": {
           "diverging": [
            [
             0,
             "#8e0152"
            ],
            [
             0.1,
             "#c51b7d"
            ],
            [
             0.2,
             "#de77ae"
            ],
            [
             0.3,
             "#f1b6da"
            ],
            [
             0.4,
             "#fde0ef"
            ],
            [
             0.5,
             "#f7f7f7"
            ],
            [
             0.6,
             "#e6f5d0"
            ],
            [
             0.7,
             "#b8e186"
            ],
            [
             0.8,
             "#7fbc41"
            ],
            [
             0.9,
             "#4d9221"
            ],
            [
             1,
             "#276419"
            ]
           ],
           "sequential": [
            [
             0,
             "#0d0887"
            ],
            [
             0.1111111111111111,
             "#46039f"
            ],
            [
             0.2222222222222222,
             "#7201a8"
            ],
            [
             0.3333333333333333,
             "#9c179e"
            ],
            [
             0.4444444444444444,
             "#bd3786"
            ],
            [
             0.5555555555555556,
             "#d8576b"
            ],
            [
             0.6666666666666666,
             "#ed7953"
            ],
            [
             0.7777777777777778,
             "#fb9f3a"
            ],
            [
             0.8888888888888888,
             "#fdca26"
            ],
            [
             1,
             "#f0f921"
            ]
           ],
           "sequentialminus": [
            [
             0,
             "#0d0887"
            ],
            [
             0.1111111111111111,
             "#46039f"
            ],
            [
             0.2222222222222222,
             "#7201a8"
            ],
            [
             0.3333333333333333,
             "#9c179e"
            ],
            [
             0.4444444444444444,
             "#bd3786"
            ],
            [
             0.5555555555555556,
             "#d8576b"
            ],
            [
             0.6666666666666666,
             "#ed7953"
            ],
            [
             0.7777777777777778,
             "#fb9f3a"
            ],
            [
             0.8888888888888888,
             "#fdca26"
            ],
            [
             1,
             "#f0f921"
            ]
           ]
          },
          "colorway": [
           "#636efa",
           "#EF553B",
           "#00cc96",
           "#ab63fa",
           "#FFA15A",
           "#19d3f3",
           "#FF6692",
           "#B6E880",
           "#FF97FF",
           "#FECB52"
          ],
          "font": {
           "color": "#2a3f5f"
          },
          "geo": {
           "bgcolor": "white",
           "lakecolor": "white",
           "landcolor": "#E5ECF6",
           "showlakes": true,
           "showland": true,
           "subunitcolor": "white"
          },
          "hoverlabel": {
           "align": "left"
          },
          "hovermode": "closest",
          "mapbox": {
           "style": "light"
          },
          "paper_bgcolor": "white",
          "plot_bgcolor": "#E5ECF6",
          "polar": {
           "angularaxis": {
            "gridcolor": "white",
            "linecolor": "white",
            "ticks": ""
           },
           "bgcolor": "#E5ECF6",
           "radialaxis": {
            "gridcolor": "white",
            "linecolor": "white",
            "ticks": ""
           }
          },
          "scene": {
           "xaxis": {
            "backgroundcolor": "#E5ECF6",
            "gridcolor": "white",
            "gridwidth": 2,
            "linecolor": "white",
            "showbackground": true,
            "ticks": "",
            "zerolinecolor": "white"
           },
           "yaxis": {
            "backgroundcolor": "#E5ECF6",
            "gridcolor": "white",
            "gridwidth": 2,
            "linecolor": "white",
            "showbackground": true,
            "ticks": "",
            "zerolinecolor": "white"
           },
           "zaxis": {
            "backgroundcolor": "#E5ECF6",
            "gridcolor": "white",
            "gridwidth": 2,
            "linecolor": "white",
            "showbackground": true,
            "ticks": "",
            "zerolinecolor": "white"
           }
          },
          "shapedefaults": {
           "line": {
            "color": "#2a3f5f"
           }
          },
          "ternary": {
           "aaxis": {
            "gridcolor": "white",
            "linecolor": "white",
            "ticks": ""
           },
           "baxis": {
            "gridcolor": "white",
            "linecolor": "white",
            "ticks": ""
           },
           "bgcolor": "#E5ECF6",
           "caxis": {
            "gridcolor": "white",
            "linecolor": "white",
            "ticks": ""
           }
          },
          "title": {
           "x": 0.05
          },
          "xaxis": {
           "automargin": true,
           "gridcolor": "white",
           "linecolor": "white",
           "ticks": "",
           "title": {
            "standoff": 15
           },
           "zerolinecolor": "white",
           "zerolinewidth": 2
          },
          "yaxis": {
           "automargin": true,
           "gridcolor": "white",
           "linecolor": "white",
           "ticks": "",
           "title": {
            "standoff": 15
           },
           "zerolinecolor": "white",
           "zerolinewidth": 2
          }
         }
        },
        "xaxis": {
         "anchor": "y",
         "domain": [
          0,
          1
         ],
         "title": {
          "text": "rates"
         }
        },
        "yaxis": {
         "anchor": "x",
         "domain": [
          0,
          1
         ],
         "title": {
          "text": "agent"
         }
        }
       }
      }
     },
     "metadata": {},
     "output_type": "display_data"
    }
   ],
   "source": [
    "import plotly.express as px\n",
    "\n",
    "g = px.bar(agent_data, y = \"agent\", x = \"rates\", color = \"win/pick\", orientation = \"h\", barmode = \"group\")\n",
    "\n",
    "g.show()"
   ]
  }
 ],
 "metadata": {
  "kernelspec": {
   "display_name": "Python 3.10.9 64-bit (microsoft store)",
   "language": "python",
   "name": "python3"
  },
  "language_info": {
   "codemirror_mode": {
    "name": "ipython",
    "version": 3
   },
   "file_extension": ".py",
   "mimetype": "text/x-python",
   "name": "python",
   "nbconvert_exporter": "python",
   "pygments_lexer": "ipython3",
   "version": "3.10.10"
  },
  "orig_nbformat": 4,
  "vscode": {
   "interpreter": {
    "hash": "aea6fe521a8d4c902ca730e502c1a2f7b75abf53da708eec9ae2a041880e07b3"
   }
  }
 },
 "nbformat": 4,
 "nbformat_minor": 2
}
