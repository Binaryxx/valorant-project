{
 "cells": [
  {
   "cell_type": "markdown",
   "metadata": {},
   "source": [
    "# Valorant Project: Webscraping  "
   ]
  },
  {
   "cell_type": "markdown",
   "metadata": {},
   "source": [
    "<hr>  \n",
    "  \n",
    "## Prereq Code"
   ]
  },
  {
   "cell_type": "code",
   "execution_count": 68,
   "metadata": {},
   "outputs": [],
   "source": [
    "import requests\n",
    "from bs4 import BeautifulSoup\n",
    "import pandas as pd\n",
    "import re"
   ]
  },
  {
   "cell_type": "code",
   "execution_count": 42,
   "metadata": {},
   "outputs": [],
   "source": [
    "# Getting the soup\n",
    "\n",
    "url = \"https://www.vlr.gg/events\" \n",
    "response = requests.get(url).text \n",
    "soup = BeautifulSoup(response) "
   ]
  },
  {
   "cell_type": "markdown",
   "metadata": {},
   "source": [
    "<hr>\n",
    "\n",
    "### Collecting team comp, match outcome, and map per game [team A vs team B in Semi Finals]"
   ]
  },
  {
   "cell_type": "markdown",
   "metadata": {},
   "source": [
    "https://www.vlr.gg/169825/mxb-xt-vietnam-vs-victory-valorant-vietnam-rising-stars-qf/?game=all&tab=overview"
   ]
  },
  {
   "cell_type": "markdown",
   "metadata": {},
   "source": [
    "#### Storing the Team Comp"
   ]
  },
  {
   "cell_type": "markdown",
   "metadata": {},
   "source": [
    "##### Looking for the tag with the needed info\n",
    "\n",
    "    \n",
    "1. find the div that contains each game\n",
    "> make sure \"All Maps\" summary div is not captured\n",
    "2. the div with no \"style\" or \"class\" attribute has the divs for the tables\n",
    "3. iterate through the two divs that each contain a table (each div represent a team)\n",
    "4. go to tbody\n",
    "5. iterate through each tr (each tr represents a player for the team)\n",
    "6. go to td with the class value of \"mod-agents\"\n",
    "7. go to div\n",
    "8. go to span\n",
    "9. check the title attribute of the span; has the name of the agent they're playing"
   ]
  },
  {
   "cell_type": "code",
   "execution_count": 3,
   "metadata": {},
   "outputs": [],
   "source": [
    "# STEP 1a: Find the div\n",
    "matches = soup.find_all(name = \"div\", class_ =\"vm-stats-game\")"
   ]
  },
  {
   "cell_type": "code",
   "execution_count": 4,
   "metadata": {},
   "outputs": [],
   "source": [
    "# STEP 1b: Filter out the div that contains the \"All Maps\" section\n",
    "adj_matches = []\n",
    "for match in matches:\n",
    "    if ((match.attrs)[\"data-game-id\"] != \"all\"):\n",
    "        if (match.find(name = \"div\", class_ = \"score mod-win\").string.strip() != \"0\"):\n",
    "            adj_matches.append(match)"
   ]
  },
  {
   "cell_type": "code",
   "execution_count": 5,
   "metadata": {},
   "outputs": [
    {
     "data": {
      "text/plain": [
       "2"
      ]
     },
     "execution_count": 5,
     "metadata": {},
     "output_type": "execute_result"
    }
   ],
   "source": [
    "len(adj_matches)"
   ]
  },
  {
   "cell_type": "code",
   "execution_count": 6,
   "metadata": {},
   "outputs": [],
   "source": [
    "# STEP 2 to 9\n",
    "comp_list = []\n",
    "comp_outcome = []\n",
    "\n",
    "# STEP 2 to 4: Get the 2 tbody that contains each tema\n",
    "for match in adj_matches:\n",
    "    for team in match.find_all(\"tbody\"):\n",
    "        team_comp = []\n",
    "\n",
    "        # STEP 5: Iterate through each player in each team\n",
    "        for player in team.find_all(\"tr\"):\n",
    "            # STEP 6 to 9: Store the agent selected\n",
    "            team_comp.append(player.find(\"img\").attrs[\"title\"])\n",
    "        if team_comp:\n",
    "            comp_list.append(team_comp)"
   ]
  },
  {
   "cell_type": "code",
   "execution_count": 7,
   "metadata": {},
   "outputs": [
    {
     "data": {
      "text/plain": [
       "[['Raze', 'Viper', 'Jett', 'Sage', 'Sova'],\n",
       " ['Viper', 'Sova', 'Jett', 'Reyna', 'Killjoy'],\n",
       " ['Jett', 'Killjoy', 'Sova', 'Astra', 'Breach'],\n",
       " ['Astra', 'Sova', 'Cypher', 'Jett', 'Raze']]"
      ]
     },
     "execution_count": 7,
     "metadata": {},
     "output_type": "execute_result"
    }
   ],
   "source": [
    "comp_list"
   ]
  },
  {
   "cell_type": "markdown",
   "metadata": {},
   "source": [
    "#### Storing the Match Outcome"
   ]
  },
  {
   "cell_type": "code",
   "execution_count": 8,
   "metadata": {},
   "outputs": [],
   "source": [
    "outcome_list = []\n",
    "for match in adj_matches:\n",
    "    for team in match.find_all(name = \"div\", class_ = \"score\"):\n",
    "        if \"mod-win\" in team.attrs[\"class\"]:\n",
    "            outcome_list.append(\"win\")\n",
    "        else:\n",
    "            outcome_list.append(\"lose\")\n",
    "\n",
    "\n",
    "        "
   ]
  },
  {
   "cell_type": "code",
   "execution_count": 9,
   "metadata": {},
   "outputs": [
    {
     "data": {
      "text/plain": [
       "['lose', 'win', 'lose', 'win']"
      ]
     },
     "execution_count": 9,
     "metadata": {},
     "output_type": "execute_result"
    }
   ],
   "source": [
    "outcome_list"
   ]
  },
  {
   "cell_type": "markdown",
   "metadata": {},
   "source": [
    "#### Storing Map"
   ]
  },
  {
   "cell_type": "code",
   "execution_count": 10,
   "metadata": {},
   "outputs": [],
   "source": [
    "map_list = []\n",
    "\n",
    "for match in adj_matches:\n",
    "    for i in range(2):\n",
    "        map_list.append(match.find(name = \"div\", class_ = \"map\").find(\"span\").get_text(strip = True))"
   ]
  },
  {
   "cell_type": "code",
   "execution_count": 11,
   "metadata": {},
   "outputs": [
    {
     "data": {
      "text/plain": [
       "['Icebox', 'Icebox', 'Haven', 'Haven']"
      ]
     },
     "execution_count": 11,
     "metadata": {},
     "output_type": "execute_result"
    }
   ],
   "source": [
    "map_list"
   ]
  },
  {
   "cell_type": "markdown",
   "metadata": {},
   "source": [
    "<hr>\n",
    "\n",
    "### Iterating through all games given a tournament"
   ]
  },
  {
   "cell_type": "markdown",
   "metadata": {},
   "source": [
    "Given a URL of a tournament, iterate through each game\n",
    "> From: https://www.vlr.gg/event/matches/1438/valorant-vietnam-rising-stars/?series_id=all&group=completed  \n",
    "> To: https://www.vlr.gg/169825/mxb-xt-vietnam-vs-victory-valorant-vietnam-rising-stars-qf/?game=115368&tab=overview"
   ]
  },
  {
   "cell_type": "code",
   "execution_count": 32,
   "metadata": {},
   "outputs": [],
   "source": [
    "link_list = []\n",
    "for anchor in soup.find_all(name = \"a\", class_ = \"wf-module-item\"):\n",
    "    link_list.append(\"vlr.gg\"+anchor.attrs[\"href\"])"
   ]
  },
  {
   "cell_type": "markdown",
   "metadata": {},
   "source": [
    "### Iterating through all tournaments that match a specific criteria"
   ]
  },
  {
   "cell_type": "code",
   "execution_count": 95,
   "metadata": {},
   "outputs": [
    {
     "data": {
      "text/plain": [
       "['https://www.vlr.gg/event/1438/valorant-vietnam-rising-stars',\n",
       " 'https://www.vlr.gg/event/1461/game-changers-2023-latam-qualifiers',\n",
       " 'https://www.vlr.gg/event/1440/wandercon',\n",
       " 'https://www.vlr.gg/event/1469/valorant-east-united-season-2-stage-1-weekly-cup-4',\n",
       " 'https://www.vlr.gg/event/1462/knights-monthly-gauntlet-2023-january',\n",
       " 'https://www.vlr.gg/event/1468/asmoogl-community-cup',\n",
       " 'https://www.vlr.gg/event/1470/golden-goose-6',\n",
       " 'https://www.vlr.gg/event/1466/valorant-east-united-season-2-stage-1-monthly-cup-1',\n",
       " 'https://www.vlr.gg/event/1403/project-v-xmg-offseason-clash',\n",
       " 'https://www.vlr.gg/event/1309/challengers-league-north-america-qualifiers',\n",
       " 'https://www.vlr.gg/event/1352/nativz-collegiate-valorant-winter-series-2022',\n",
       " 'https://www.vlr.gg/event/1407/project-v-xmg-trinity-cup',\n",
       " 'https://www.vlr.gg/event/1459/valorant-east-united-season-2-stage-1-weekly-cup-3',\n",
       " 'https://www.vlr.gg/event/1335/nerd-street-valorant-lockdown-finals',\n",
       " 'https://www.vlr.gg/event/1456/gaming-culture-girl-power-6',\n",
       " 'https://www.vlr.gg/event/1453/ludwig-x-tarik-invitational',\n",
       " 'https://www.vlr.gg/event/1441/legion-legends',\n",
       " 'https://www.vlr.gg/event/1464/rumble-royale-x-riot-community-brawl-week-6',\n",
       " 'https://www.vlr.gg/event/1334/nerd-street-valorant-lockdown-last-chance-qualifier',\n",
       " 'https://www.vlr.gg/event/1463/circuito-tormenta-alicante-digital-gaming',\n",
       " 'https://www.vlr.gg/event/1460/odyssey-warpros-volume-8',\n",
       " 'https://www.vlr.gg/event/1452/valorant-east-united-season-2-stage-1-weekly-cup-2',\n",
       " 'https://www.vlr.gg/event/1416/beacon-open-split-2-finals',\n",
       " 'https://www.vlr.gg/event/1449/reflex-challenge-oce',\n",
       " 'https://www.vlr.gg/event/1451/xo-cup-1',\n",
       " 'https://www.vlr.gg/event/1443/collegiate-valorant-hub-winter-warmup-invitational',\n",
       " 'https://www.vlr.gg/event/1406/project-v-xmg-sector-cup-2',\n",
       " 'https://www.vlr.gg/event/1448/valorant-east-united-season-2-stage-1-weekly-cup-1']"
      ]
     },
     "execution_count": 95,
     "metadata": {},
     "output_type": "execute_result"
    }
   ],
   "source": [
    "tournament_list = []\n",
    "\n",
    "for events_list in soup.find_all(name = \"div\", class_ = \"events-container-col\"):\n",
    "    if events_list.find(name = \"div\", class_ = \"wf-label mod-large mod-completed\"):\n",
    "        for tournaments in events_list.find_all(name = \"a\", class_ = \"wf-card mod-flex event-item\"):\n",
    "            for words in tournaments.find(name = \"div\", class_ = \"event-item-desc-item mod-dates\").get_text(strip = True).split(\"—\"):\n",
    "                if (words[:3] == \"Jan\"):\n",
    "                    tournament_list.append(\"https://www.vlr.gg\"+tournaments.attrs[\"href\"])\n",
    "\n",
    "tournament_list"
   ]
  },
  {
   "cell_type": "code",
   "execution_count": 81,
   "metadata": {},
   "outputs": [
    {
     "data": {
      "text/plain": [
       "<div class=\"wf-label mod-large mod-completed\">\n",
       "\t\t\t\tcompleted events\n",
       "\t\t\t</div>"
      ]
     },
     "execution_count": 81,
     "metadata": {},
     "output_type": "execute_result"
    }
   ],
   "source": [
    "soup.find_all(name = \"div\", class_ = \"events-container-col\")[1].find(name = \"div\", class_ = \"wf-label mod-large mod-completed\")"
   ]
  },
  {
   "cell_type": "code",
   "execution_count": 71,
   "metadata": {},
   "outputs": [
    {
     "data": {
      "text/plain": [
       "['Jan 2', 'Mar 2Dates']"
      ]
     },
     "execution_count": 71,
     "metadata": {},
     "output_type": "execute_result"
    }
   ],
   "source": [
    "re.split(\"—\", soup.find_all(name = \"div\", class_ = \"events-container-col\")[1].find_all(name = \"a\", class_ = \"wf-card mod-flex event-item\")[0].find(name = \"div\", class_ = \"event-item-desc-item mod-dates\").get_text(strip = True))"
   ]
  },
  {
   "cell_type": "markdown",
   "metadata": {},
   "source": [
    "## Master Code for Match Info Collection"
   ]
  },
  {
   "cell_type": "code",
   "execution_count": 12,
   "metadata": {},
   "outputs": [],
   "source": [
    "comp_list = []\n",
    "outcome_list = []\n",
    "map_list = []\n",
    "\n",
    "for match in adj_matches:\n",
    "\n",
    "    for i in range(2):\n",
    "        map_list.append(match.find(name = \"div\", class_ = \"map\").find(\"span\").get_text(strip = True))\n",
    "\n",
    "    for team in match.find_all(name = \"div\", class_ = \"score\"):\n",
    "        if \"mod-win\" in team.attrs[\"class\"]:\n",
    "            outcome_list.append(\"win\")\n",
    "        else:\n",
    "            outcome_list.append(\"lose\")\n",
    "\n",
    "    for team in match.find_all(\"tbody\"):\n",
    "        team_comp = []\n",
    "\n",
    "        for player in team.find_all(\"tr\"):\n",
    "            team_comp.append(player.find(\"img\").attrs[\"title\"])\n",
    "        if team_comp:\n",
    "            comp_list.append(team_comp)"
   ]
  },
  {
   "cell_type": "code",
   "execution_count": 13,
   "metadata": {},
   "outputs": [
    {
     "data": {
      "text/html": [
       "<div>\n",
       "<style scoped>\n",
       "    .dataframe tbody tr th:only-of-type {\n",
       "        vertical-align: middle;\n",
       "    }\n",
       "\n",
       "    .dataframe tbody tr th {\n",
       "        vertical-align: top;\n",
       "    }\n",
       "\n",
       "    .dataframe thead th {\n",
       "        text-align: right;\n",
       "    }\n",
       "</style>\n",
       "<table border=\"1\" class=\"dataframe\">\n",
       "  <thead>\n",
       "    <tr style=\"text-align: right;\">\n",
       "      <th></th>\n",
       "      <th>comp_list</th>\n",
       "      <th>outcome_list</th>\n",
       "      <th>map_list</th>\n",
       "    </tr>\n",
       "  </thead>\n",
       "  <tbody>\n",
       "    <tr>\n",
       "      <th>0</th>\n",
       "      <td>[Raze, Viper, Jett, Sage, Sova]</td>\n",
       "      <td>lose</td>\n",
       "      <td>Icebox</td>\n",
       "    </tr>\n",
       "    <tr>\n",
       "      <th>1</th>\n",
       "      <td>[Viper, Sova, Jett, Reyna, Killjoy]</td>\n",
       "      <td>win</td>\n",
       "      <td>Icebox</td>\n",
       "    </tr>\n",
       "    <tr>\n",
       "      <th>2</th>\n",
       "      <td>[Jett, Killjoy, Sova, Astra, Breach]</td>\n",
       "      <td>lose</td>\n",
       "      <td>Haven</td>\n",
       "    </tr>\n",
       "    <tr>\n",
       "      <th>3</th>\n",
       "      <td>[Astra, Sova, Cypher, Jett, Raze]</td>\n",
       "      <td>win</td>\n",
       "      <td>Haven</td>\n",
       "    </tr>\n",
       "  </tbody>\n",
       "</table>\n",
       "</div>"
      ],
      "text/plain": [
       "                              comp_list outcome_list map_list\n",
       "0       [Raze, Viper, Jett, Sage, Sova]         lose   Icebox\n",
       "1   [Viper, Sova, Jett, Reyna, Killjoy]          win   Icebox\n",
       "2  [Jett, Killjoy, Sova, Astra, Breach]         lose    Haven\n",
       "3     [Astra, Sova, Cypher, Jett, Raze]          win    Haven"
      ]
     },
     "execution_count": 13,
     "metadata": {},
     "output_type": "execute_result"
    }
   ],
   "source": [
    "pro_df = pd.DataFrame({\"comp_list\": comp_list, \"outcome_list\": outcome_list, \"map_list\": map_list})\n",
    "pro_df"
   ]
  },
  {
   "cell_type": "markdown",
   "metadata": {},
   "source": [
    "<hr>\n",
    "\n",
    "# Prototype"
   ]
  },
  {
   "cell_type": "code",
   "execution_count": 39,
   "metadata": {},
   "outputs": [],
   "source": [
    "import requests\n",
    "from bs4 import BeautifulSoup\n",
    "import pandas as pd\n",
    "import numpy as np\n",
    "import pickle as pkl\n",
    "\n",
    "\n",
    "comp_list = []\n",
    "outcome_list = []\n",
    "map_list = []\n",
    "\n",
    "\n",
    "# Getting the soup for the URL with the list of tournaments\n",
    "url = \"https://www.vlr.gg/events\"\n",
    "response = requests.get(url).text\n",
    "soup_main = BeautifulSoup(response, features=\"lxml\")\n",
    "\n",
    "# Getting the list of tournament links\n",
    "print(\"\\nCollecting tournaments\")\n",
    "tournament_list = []\n",
    "for events_list in soup_main.find_all(name = \"div\", class_ = \"events-container-col\"):\n",
    "    if events_list.find(name = \"div\", class_ = \"wf-label mod-large mod-completed\"):\n",
    "        for tournaments in events_list.find_all(name = \"a\", class_ = \"wf-card mod-flex event-item\"):\n",
    "            for words in tournaments.find(name = \"div\", class_ = \"event-item-desc-item mod-dates\").get_text(strip = True).split(\"—\"):\n",
    "                if (words[:3] == \"Jan\"):\n",
    "                    tournament_list.append(\"https://www.vlr.gg\"+tournaments.attrs[\"href\"])\n",
    "\n",
    "print(\"\\n Collecting games in each tournament\")\n",
    "# Collect all the links to the games in each tournament\n",
    "for tournament_link in tournament_list:\n",
    "\n",
    "    url_tournament = tournament_link\n",
    "    response_tournament = requests.get(url_tournament).text\n",
    "    soup_tournament = BeautifulSoup(response_tournament, features=\"lxml\")\n",
    "\n",
    "    link_list = []\n",
    "    for anchor in soup_tournament.find_all(name = \"a\", class_ = \"wf-module-item\"):\n",
    "        link_list.append(\"https://www.vlr.gg\"+anchor.attrs[\"href\"])\n",
    "\n",
    "    print(\"Collecting match data from each game\")\n",
    "    # For each game; collect the game data\n",
    "    for link in link_list:\n",
    "        url_game = link\n",
    "        response_game = requests.get(url_game).text\n",
    "        soup_game = BeautifulSoup(response_game, features=\"lxml\")\n",
    "\n",
    "        matches = soup_game.find_all(name = \"div\", class_ =\"vm-stats-game\")\n",
    "\n",
    "        adj_matches = []\n",
    "        # Filter out the tab that aggregates the result for all games given the game (team A vs team B summary of 3 maps played for qualifiers)\n",
    "        for match in matches:\n",
    "            if ((match.attrs)[\"data-game-id\"] != \"all\"):\n",
    "                # Filter out the tab that is empty if only 2 maps were played instead of 3\n",
    "                if (match.find(name = \"div\", class_ = \"score mod-win\").string.strip() != \"0\"):\n",
    "                    adj_matches.append(match)\n",
    "\n",
    "        # For each match played for the game; collect info\n",
    "        for match in adj_matches:\n",
    "            # Collect map played\n",
    "            for i in range(2):\n",
    "                map_list.append(match.find(name = \"div\", class_ = \"map\").find(\"span\").get_text(strip = True))\n",
    "            # Collect match outcome\n",
    "            for team in match.find_all(name = \"div\", class_ = \"score\"):\n",
    "                if \"mod-win\" in team.attrs[\"class\"]:\n",
    "                    outcome_list.append(\"win\")\n",
    "                else:\n",
    "                    outcome_list.append(\"lose\")\n",
    "            # Collect team comp\n",
    "            for team in match.find_all(\"tbody\"):\n",
    "                team_comp = []\n",
    "\n",
    "                for player in team.find_all(\"tr\"):\n",
    "                    if player.find(\"img\"): # To cover for instances where a match was played(?) [there's a score] but no agent comp was recorded\n",
    "                        team_comp.append(player.find(\"img\").attrs[\"title\"]) \n",
    "                    else:\n",
    "                        comp_list.append(np.nan)\n",
    "                        break\n",
    "                if team_comp:\n",
    "                    comp_list.append(team_comp)\n",
    "\n",
    "# Convert into a df\n",
    "pro_df = pd.DataFrame({\"comp_list\": comp_list, \"outcome_list\": outcome_list, \"map_list\": map_list})\n",
    "\n",
    "# Remove rows where there is no team comp captured\n",
    "pro_df.dropna(subset = [\"comp_list\"], inplace = True)\n",
    "\n",
    "if pro_df:\n",
    "    with open(\"C:\\\\Users\\\\Binaryxx Sune\\\\Documents\\\\Programming\\\\personal_projects\\\\data\\\\pro_data.pkl\", \"wb\") as pro_data_file:\n",
    "        pkl.dump(pro_df, pro_data_file)\n",
    "\n",
    "print(\"Script has finished running\")"
   ]
  },
  {
   "cell_type": "code",
   "execution_count": 40,
   "metadata": {},
   "outputs": [
    {
     "name": "stdout",
     "output_type": "stream",
     "text": [
      "Tournaments: 80\n",
      "~ Games Each Tournament: 54\n",
      "Matches: 532\n"
     ]
    }
   ],
   "source": [
    "print(\"Tournaments:\", len(tournament_link))\n",
    "print(\"~ Games Each Tournament:\", len(link_list))\n",
    "print(\"Matches:\", len(comp_list))"
   ]
  },
  {
   "cell_type": "code",
   "execution_count": 41,
   "metadata": {},
   "outputs": [
    {
     "data": {
      "text/html": [
       "<div>\n",
       "<style scoped>\n",
       "    .dataframe tbody tr th:only-of-type {\n",
       "        vertical-align: middle;\n",
       "    }\n",
       "\n",
       "    .dataframe tbody tr th {\n",
       "        vertical-align: top;\n",
       "    }\n",
       "\n",
       "    .dataframe thead th {\n",
       "        text-align: right;\n",
       "    }\n",
       "</style>\n",
       "<table border=\"1\" class=\"dataframe\">\n",
       "  <thead>\n",
       "    <tr style=\"text-align: right;\">\n",
       "      <th></th>\n",
       "      <th>comp_list</th>\n",
       "      <th>outcome_list</th>\n",
       "      <th>map_list</th>\n",
       "    </tr>\n",
       "  </thead>\n",
       "  <tbody>\n",
       "    <tr>\n",
       "      <th>0</th>\n",
       "      <td>[Raze, Astra, Kayo, Fade, Cypher]</td>\n",
       "      <td>lose</td>\n",
       "      <td>Pearl</td>\n",
       "    </tr>\n",
       "    <tr>\n",
       "      <th>1</th>\n",
       "      <td>[Fade, Astra, Raze, Breach, Killjoy]</td>\n",
       "      <td>win</td>\n",
       "      <td>Pearl</td>\n",
       "    </tr>\n",
       "    <tr>\n",
       "      <th>2</th>\n",
       "      <td>[Jett, Breach, Sova, Killjoy, Astra]</td>\n",
       "      <td>lose</td>\n",
       "      <td>Haven</td>\n",
       "    </tr>\n",
       "    <tr>\n",
       "      <th>3</th>\n",
       "      <td>[Raze, Fade, Astra, Killjoy, Breach]</td>\n",
       "      <td>win</td>\n",
       "      <td>Haven</td>\n",
       "    </tr>\n",
       "    <tr>\n",
       "      <th>4</th>\n",
       "      <td>[Jett, Astra, Killjoy, Kayo, Sova]</td>\n",
       "      <td>win</td>\n",
       "      <td>AscentPICK</td>\n",
       "    </tr>\n",
       "    <tr>\n",
       "      <th>...</th>\n",
       "      <td>...</td>\n",
       "      <td>...</td>\n",
       "      <td>...</td>\n",
       "    </tr>\n",
       "    <tr>\n",
       "      <th>527</th>\n",
       "      <td>[Brimstone, Breach, Raze, Fade, Cypher]</td>\n",
       "      <td>lose</td>\n",
       "      <td>Bind</td>\n",
       "    </tr>\n",
       "    <tr>\n",
       "      <th>528</th>\n",
       "      <td>[Raze, Omen, Fade, Viper, Killjoy]</td>\n",
       "      <td>win</td>\n",
       "      <td>Haven</td>\n",
       "    </tr>\n",
       "    <tr>\n",
       "      <th>529</th>\n",
       "      <td>[Breach, Jett, Sova, Omen, Killjoy]</td>\n",
       "      <td>lose</td>\n",
       "      <td>Haven</td>\n",
       "    </tr>\n",
       "    <tr>\n",
       "      <th>530</th>\n",
       "      <td>[Raze, Cypher, Brimstone, Breach, Fade]</td>\n",
       "      <td>win</td>\n",
       "      <td>Fracture</td>\n",
       "    </tr>\n",
       "    <tr>\n",
       "      <th>531</th>\n",
       "      <td>[Raze, Fade, Breach, Brimstone, Killjoy]</td>\n",
       "      <td>lose</td>\n",
       "      <td>Fracture</td>\n",
       "    </tr>\n",
       "  </tbody>\n",
       "</table>\n",
       "<p>532 rows × 3 columns</p>\n",
       "</div>"
      ],
      "text/plain": [
       "                                    comp_list outcome_list    map_list\n",
       "0           [Raze, Astra, Kayo, Fade, Cypher]         lose       Pearl\n",
       "1        [Fade, Astra, Raze, Breach, Killjoy]          win       Pearl\n",
       "2        [Jett, Breach, Sova, Killjoy, Astra]         lose       Haven\n",
       "3        [Raze, Fade, Astra, Killjoy, Breach]          win       Haven\n",
       "4          [Jett, Astra, Killjoy, Kayo, Sova]          win  AscentPICK\n",
       "..                                        ...          ...         ...\n",
       "527   [Brimstone, Breach, Raze, Fade, Cypher]         lose        Bind\n",
       "528        [Raze, Omen, Fade, Viper, Killjoy]          win       Haven\n",
       "529       [Breach, Jett, Sova, Omen, Killjoy]         lose       Haven\n",
       "530   [Raze, Cypher, Brimstone, Breach, Fade]          win    Fracture\n",
       "531  [Raze, Fade, Breach, Brimstone, Killjoy]         lose    Fracture\n",
       "\n",
       "[532 rows x 3 columns]"
      ]
     },
     "execution_count": 41,
     "metadata": {},
     "output_type": "execute_result"
    }
   ],
   "source": [
    "pro_df"
   ]
  }
 ],
 "metadata": {
  "kernelspec": {
   "display_name": "Python 3.10.10 64-bit (microsoft store)",
   "language": "python",
   "name": "python3"
  },
  "language_info": {
   "codemirror_mode": {
    "name": "ipython",
    "version": 3
   },
   "file_extension": ".py",
   "mimetype": "text/x-python",
   "name": "python",
   "nbconvert_exporter": "python",
   "pygments_lexer": "ipython3",
   "version": "3.10.10"
  },
  "orig_nbformat": 4,
  "vscode": {
   "interpreter": {
    "hash": "aea6fe521a8d4c902ca730e502c1a2f7b75abf53da708eec9ae2a041880e07b3"
   }
  }
 },
 "nbformat": 4,
 "nbformat_minor": 2
}
