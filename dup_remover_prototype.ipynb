{
 "cells": [
  {
   "cell_type": "code",
   "execution_count": 8,
   "metadata": {},
   "outputs": [],
   "source": [
    "import pickle as pkl\n",
    "\n",
    "\n",
    "def give_past_var(file_path):\n",
    "    past_runs = []\n",
    "    with open(file_path, \"rb\") as file:\n",
    "            try:\n",
    "                while True:\n",
    "                    past_runs.append(pkl.load(file))\n",
    "            except:\n",
    "                pass\n",
    "    return sum(past_runs, [])\n",
    "\n",
    "past_matches = give_past_var(\"C:\\\\Users\\\\Binaryxx Sune\\\\Documents\\\\Programming\\\\personal_projects\\\\data\\\\past_matches.pkl\")\n",
    "comp_matches = give_past_var(\"C:\\\\Users\\\\Binaryxx Sune\\\\Documents\\\\Programming\\\\personal_projects\\\\data\\\\competitive_data.pkl\")\n",
    "unrated_matches = give_past_var(\"C:\\\\Users\\\\Binaryxx Sune\\\\Documents\\\\Programming\\\\personal_projects\\\\data\\\\unrated_data.pkl\")"
   ]
  },
  {
   "cell_type": "code",
   "execution_count": 9,
   "metadata": {},
   "outputs": [
    {
     "name": "stdout",
     "output_type": "stream",
     "text": [
      "Past Matches 144\n",
      "Comp Matches 105\n",
      "Unrated Matches 34\n"
     ]
    }
   ],
   "source": [
    "print(\"Past Matches\",len(past_matches))\n",
    "print(\"Comp Matches\",len(comp_matches))\n",
    "print(\"Unrated Matches\",len(unrated_matches))"
   ]
  },
  {
   "cell_type": "code",
   "execution_count": 10,
   "metadata": {},
   "outputs": [],
   "source": [
    "collected_matches = []\n",
    "unique_comp = []\n",
    "\n",
    "for match in comp_matches:\n",
    "    if match[\"metadata\"][\"matchid\"] not in collected_matches:\n",
    "        collected_matches.append(match[\"metadata\"][\"matchid\"])\n",
    "        unique_comp.append(match)\n"
   ]
  },
  {
   "cell_type": "code",
   "execution_count": 11,
   "metadata": {},
   "outputs": [
    {
     "data": {
      "text/plain": [
       "105"
      ]
     },
     "execution_count": 11,
     "metadata": {},
     "output_type": "execute_result"
    }
   ],
   "source": [
    "len(unique_comp)"
   ]
  },
  {
   "cell_type": "code",
   "execution_count": 12,
   "metadata": {},
   "outputs": [],
   "source": [
    "collected_matches = []\n",
    "unique_unrated = []\n",
    "\n",
    "for match in unrated_matches:\n",
    "    if match[\"metadata\"][\"matchid\"] not in collected_matches:\n",
    "        collected_matches.append(match[\"metadata\"][\"matchid\"])\n",
    "        unique_unrated.append(match)"
   ]
  },
  {
   "cell_type": "code",
   "execution_count": 13,
   "metadata": {},
   "outputs": [
    {
     "data": {
      "text/plain": [
       "34"
      ]
     },
     "execution_count": 13,
     "metadata": {},
     "output_type": "execute_result"
    }
   ],
   "source": [
    "len(unique_unrated)"
   ]
  },
  {
   "cell_type": "code",
   "execution_count": 14,
   "metadata": {},
   "outputs": [
    {
     "data": {
      "text/plain": [
       "139"
      ]
     },
     "execution_count": 14,
     "metadata": {},
     "output_type": "execute_result"
    }
   ],
   "source": [
    "unique_id = []\n",
    "\n",
    "for match in unique_comp:\n",
    "    unique_id.append(match[\"metadata\"][\"matchid\"])\n",
    "\n",
    "for match in unique_unrated:\n",
    "    unique_id.append(match[\"metadata\"][\"matchid\"])\n",
    "\n",
    "len(unique_id)"
   ]
  },
  {
   "cell_type": "code",
   "execution_count": 12,
   "metadata": {},
   "outputs": [],
   "source": [
    "import pickle as pkl\n",
    "\n",
    "with open(\"C:\\\\Users\\\\Binaryxx Sune\\\\Documents\\\\Programming\\\\personal_projects\\\\data\\\\past_matches.pkl\", \"wb\") as match_id_file:\n",
    "    pkl.dump(unique_id, match_id_file)\n",
    "\n",
    "\n",
    "with open(\"C:\\\\Users\\\\Binaryxx Sune\\\\Documents\\\\Programming\\\\personal_projects\\\\data\\\\competitive_data.pkl\", \"wb\") as comp_data_file:\n",
    "    pkl.dump(unique_comp, comp_data_file)\n",
    "\n",
    "\n",
    "with open(\"C:\\\\Users\\\\Binaryxx Sune\\\\Documents\\\\Programming\\\\personal_projects\\\\data\\\\unrated_data.pkl\", \"wb\") as unrated_data_file:\n",
    "    pkl.dump(unique_unrated, unrated_data_file)"
   ]
  }
 ],
 "metadata": {
  "kernelspec": {
   "display_name": "Python 3.10.9 64-bit (microsoft store)",
   "language": "python",
   "name": "python3"
  },
  "language_info": {
   "codemirror_mode": {
    "name": "ipython",
    "version": 3
   },
   "file_extension": ".py",
   "mimetype": "text/x-python",
   "name": "python",
   "nbconvert_exporter": "python",
   "pygments_lexer": "ipython3",
   "version": "3.10.10"
  },
  "orig_nbformat": 4,
  "vscode": {
   "interpreter": {
    "hash": "aea6fe521a8d4c902ca730e502c1a2f7b75abf53da708eec9ae2a041880e07b3"
   }
  }
 },
 "nbformat": 4,
 "nbformat_minor": 2
}
